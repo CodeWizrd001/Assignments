{
 "cells": [
  {
   "cell_type": "code",
   "execution_count": 1,
   "metadata": {},
   "outputs": [],
   "source": [
    "from math import pow , sqrt , log , ceil\n",
    "import numpy as np"
   ]
  },
  {
   "cell_type": "code",
   "execution_count": 2,
   "metadata": {},
   "outputs": [],
   "source": [
    "map16Bit = {}\n",
    "map32Bit = {}\n",
    "map64Bit = {}\n",
    "\n",
    "for i in range(16) :\n",
    "    map16Bit[i] = i\n",
    "    \n",
    "for i in range(32) :\n",
    "    map32Bit[i] = i\n",
    "    \n",
    "for i in range(64) :\n",
    "    map64Bit[i] = i\n",
    "    \n",
    "initPerm = [\n",
    "    58,50,42,34,26,18,10,2,\n",
    "    60,52,44,36,28,20,12,4,\n",
    "    62,54,46,38,30,22,14,6,\n",
    "    64,56,48,40,32,24,16,8,\n",
    "    57,49,41,33,25,17,9,1,\n",
    "    59,51,43,35,27,19,11,3,\n",
    "    61,53,45,37,29,21,13,5,\n",
    "    63,55,47,39,31,23,15,7\n",
    "]\n",
    "\n",
    "expansionMap = [\n",
    "    31,0,1,2,3,4,\n",
    "    3,4,5,6,7,8,\n",
    "    7,8,9,10,11,12,\n",
    "    11,12,13,14,15,16,\n",
    "    15,16,17,18,19,20,\n",
    "    19,20,21,22,23,24,\n",
    "    23,24,25,26,27,28,\n",
    "    27,28,29,30,31,0,\n",
    "]\n",
    "\n",
    "sBoxMaps = [\n",
    "    [\n",
    "        [14,4,13,1,2,15,11,8,3,10,6,12,5,9,0,7],\n",
    "        [0,15,7,4,14,2,13,10,3,6,12,11,9,5,3,8],\n",
    "        [4,1,13,8,13,6,2,11,15,12,9,7,3,10,5,0],\n",
    "        [15,12,8,2,4,9,1,7,5,11,3,14,10,0,6,13],\n",
    "    ],\n",
    "    [\n",
    "        [15,1,8,14,6,11,3,4,9,7,2,13,12,0,5,10],\n",
    "        [3,13,4,7,15,2,8,14,12,0,1,10,6,9,11,5],\n",
    "        [0,14,7,11,10,4,13,1,5,8,12,6,9,3,2,15],\n",
    "        [13,8,10,1,3,15,4,2,11,6,7,12,0,5,14,9],\n",
    "    ],\n",
    "    [\n",
    "        [10,0,9,14,6,3,15,5,1,13,12,7,11,4,2,8],\n",
    "        [13,7,0,9,3,4,6,10,2,8,5,14,12,11,15,1],\n",
    "        [13,6,4,9,8,15,3,0,11,1,2,12,5,10,14,7],\n",
    "        [1,10,13,0,6,9,8,7,4,15,14,3,11,5,2,12],\n",
    "    ],\n",
    "    [\n",
    "        [7,13,14,3,0,6,9,10,1,2,8,5,11,12,4,15],\n",
    "        [13,8,11,5,6,15,0,3,4,7,2,12,1,10,14,9],\n",
    "        [10,6,9,0,12,11,7,13,15,1,3,14,5,2,8,4],\n",
    "        [3,15,0,6,10,1,13,8,9,4,5,11,12,7,2,14],\n",
    "    ],\n",
    "    [\n",
    "        [2,12,4,1,7,10,11,6,8,5,3,15,13,0,14,9],\n",
    "        [14,11,2,12,4,7,13,1,5,0,15,10,3,9,8,6],\n",
    "        [4,2,1,11,10,13,7,8,15,9,12,5,6,3,0,14],\n",
    "        [11,8,12,7,1,14,2,13,6,15,0,9,10,4,5,3],\n",
    "    ],\n",
    "    [\n",
    "        [12,1,10,15,9,5,6,8,0,13,3,4,14,7,5,11],\n",
    "        [10,15,4,2,7,12,9,5,6,1,13,14,0,11,3,8],\n",
    "        [9,14,15,5,2,8,12,3,7,0,4,10,1,13,11,6],\n",
    "        [4,3,2,12,9,5,15,10,11,14,1,7,10,0,8,13],\n",
    "    ],\n",
    "    [\n",
    "        [4,11,2,14,15,0,8,13,3,12,9,7,5,10,6,1],\n",
    "        [13,0,11,7,4,9,1,10,14,3,5,12,2,15,8,6],\n",
    "        [1,4,11,13,12,3,7,14,10,15,6,8,0,5,9,2],\n",
    "        [6,11,13,8,1,4,10,7,9,5,0,15,14,2,3,12],\n",
    "    ],\n",
    "    [\n",
    "        [13,2,8,4,6,15,11,1,10,9,3,14,5,0,12,7],\n",
    "        [1,15,13,8,10,3,7,4,12,5,6,11,10,14,9,2],\n",
    "        [7,11,4,1,9,12,14,2,0,6,10,10,15,3,5,8],\n",
    "        [2,1,14,7,4,10,8,13,15,12,9,9,3,5,6,11],\n",
    "    ],\n",
    "]\n",
    "\n",
    "finPerm = [[40-i,8-i,48-i,16-i,56-i,24-i,64-i] for i in range(8)]\n",
    "finPerm = list(np.array(finPerm).flatten())\n",
    "\n",
    "pDropTable = [\n",
    "    [57,49,41,33,25,17,9,1],\n",
    "    [58,50,42,34,26,18,10,2],\n",
    "    [59,51,43,35,27,19,11,3],\n",
    "    [60,52,44,36,63,55,49,39],\n",
    "    [31,23,15,7,62,54,48,38],\n",
    "    [30,22,14,6,61,53,47,37],\n",
    "    [29,21,13,5,28,20,12,4],\n",
    "]\n",
    "pDropTable = list(np.array(pDropTable).flatten())\n",
    "\n",
    "keyCompTable = [\n",
    "    [14,17,11,24,1,5,3,28],\n",
    "    [15,6,21,10,23,19,12,4],\n",
    "    [26,8,16,7,27,20,13,2],\n",
    "    [41,52,31,37,47,55,30,40],\n",
    "    [51,45,33,48,44,49,39,56],\n",
    "    [34,53,46,42,50,36,29,32],\n",
    "]\n",
    "keyCompTable = list(np.array(keyCompTable).flatten())"
   ]
  },
  {
   "cell_type": "code",
   "execution_count": 3,
   "metadata": {},
   "outputs": [],
   "source": [
    "def iPerm(i) :\n",
    "    return initPerm[i-1]\n",
    "\n",
    "def fPerm(i) :\n",
    "    return finPerm[i-1]\n",
    "\n",
    "def invIPerm(i) :\n",
    "    return initPerm.index(i) + 1\n",
    "    \n",
    "def invFPerm(i) :\n",
    "    return finPerm.index(i) + 1\n",
    "\n",
    "def invSBox(block,i) :\n",
    "    sBoxMap = sBoxMaps[i]\n",
    "    temp = sBoxMap[int(block[0]+block[5],2)][int(block[1:5],2)]\n",
    "    temp = bin(temp)[2:]\n",
    "    while len(temp) < 4 :\n",
    "        temp = '0' + temp\n",
    "    return temp\n",
    "\n",
    "def dropBits(x,retInt=False) :\n",
    "    if type(x) is int :\n",
    "        x = bin(x)[2:]\n",
    "    y = pow(2,ceil(log(len(x),2)))\n",
    "    while len(x) < y :\n",
    "        x = '0' + x\n",
    "    print([x[i*8:(i+1)*8] for i in range(int(len(x)//8))])\n",
    "    ans = \"\"\n",
    "    for i in range(len(x)) :\n",
    "        if i%8 != 7 :\n",
    "            ans += x[i]\n",
    "    print([ans[i*7:(i+1)*7] for i in range(int(len(ans)//7))])\n",
    "    if retInt :\n",
    "        return int(ans,2)\n",
    "    else :\n",
    "        return ans\n",
    "\n",
    "def shift(key,r=1) :\n",
    "    if r in [1,2,9,16] :\n",
    "        return key[1:] + key[0]\n",
    "    else :\n",
    "        return key[2:] + key[:2]\n",
    "    \n",
    "def keyGenAlgo(key,r=1) :\n",
    "    \n",
    "    # print(\"KeyGen Algorithm\")\n",
    "    \n",
    "    if type(key) is int :\n",
    "        key = bin(key)[2:]\n",
    "        while len(key) < 64 :\n",
    "            key = '0' + key\n",
    "    if len(key) == 64 :\n",
    "        # print(\"Dropping Pairity\")\n",
    "        print([key[i*8:(i+1)*8] for i in range(int(len(key)//8))])\n",
    "        dropKeys = [0 for i in range(56)]\n",
    "        for i in range(56) :\n",
    "            dropKeys[i] = key[pDropTable[i]-1]\n",
    "        # print(\"After Drop\")\n",
    "        print([''.join(dropKeys[i*7:(i+1)*7]) for i in range(int(len(dropKeys)//7))])\n",
    "        key = ''.join(dropKeys)\n",
    "    \n",
    "    while len(key) < 56 :\n",
    "        key = '0' + key\n",
    "    \n",
    "    left = shift(key[:28],r)\n",
    "    right = shift(key[28:],r)\n",
    "    \n",
    "    added = left + right\n",
    "    \n",
    "    compPBox = [added[keyCompTable[i]-1] for i in range(48)]\n",
    "    # print(\"Compression\")\n",
    "    print([''.join(compPBox[i*6:(i+1)*6]) for i in range(int(len(compPBox)//6))])\n",
    "    \n",
    "    finalKey = ''.join(compPBox)\n",
    "    \n",
    "    return finalKey"
   ]
  },
  {
   "cell_type": "code",
   "execution_count": 4,
   "metadata": {},
   "outputs": [
    {
     "name": "stdout",
     "output_type": "stream",
     "text": [
      "['00000000', '00000000', '00000000', '00000000', '00000000', '00000000', '00000011', '11111111']\n",
      "['1000000', '0100000', '0010000', '0001000', '1100000', '0100000', '0010000', '0000000']\n",
      "['000100', '010000', '000001', '100000', '000000', '000000', '100100', '000110']\n"
     ]
    },
    {
     "data": {
      "text/plain": [
       "'000100010000000001100000000000000000100100000110'"
      ]
     },
     "execution_count": 4,
     "metadata": {},
     "output_type": "execute_result"
    }
   ],
   "source": [
    "keyGenAlgo(1023)"
   ]
  },
  {
   "cell_type": "code",
   "execution_count": 5,
   "metadata": {},
   "outputs": [
    {
     "name": "stdout",
     "output_type": "stream",
     "text": [
      "['00000011', '11101000']\n",
      "['0000001', '1110100']\n"
     ]
    },
    {
     "data": {
      "text/plain": [
       "'00000011110100'"
      ]
     },
     "execution_count": 5,
     "metadata": {},
     "output_type": "execute_result"
    }
   ],
   "source": [
    "dropBits(1000)"
   ]
  },
  {
   "cell_type": "code",
   "execution_count": 6,
   "metadata": {},
   "outputs": [
    {
     "data": {
      "text/plain": [
       "1000"
      ]
     },
     "execution_count": 6,
     "metadata": {},
     "output_type": "execute_result"
    }
   ],
   "source": [
    "int('0000001111101000',2)"
   ]
  },
  {
   "cell_type": "code",
   "execution_count": 10,
   "metadata": {},
   "outputs": [],
   "source": [
    "def DES(data,key=0,r=1) :\n",
    "    if type(data) is int :\n",
    "        data = bin(data)[2:]\n",
    "    while len(data) < 64 :\n",
    "        data = '0' + data\n",
    "    if type(key) is int :\n",
    "        key = bin(key)[2:]\n",
    "    else :\n",
    "        if len(key) != 56 or len(key) != 64:\n",
    "            while len(key) < 64 :\n",
    "                key = '0' + key\n",
    "        key = keyGenAlgo(key,r)\n",
    "    while len(key) < 48 :\n",
    "        key = '0' + key\n",
    "    left = data[:32]\n",
    "    right = data[32:]\n",
    "    \n",
    "    # print(\"DES Starting\")\n",
    "    \n",
    "    # Splitting\n",
    "    print(left,right)\n",
    "    \n",
    "    # print(\"Expanding\")\n",
    "    # Expanding\n",
    "    expanded = [right[expansionMap[i]] for i in range(48)]\n",
    "    print(right)\n",
    "    print(''.join(expanded))\n",
    "    \n",
    "    # print(\"XOR 1\")\n",
    "    # XOR with Key\n",
    "    eList = [int(i) for i in expanded]\n",
    "    kList = [int(i) for i in key]\n",
    "    xList = []\n",
    "    for i in range(len(eList)) :\n",
    "        xList.append(str(eList[i]^kList[i]))\n",
    "    XOR = ''.join(xList)\n",
    "    print([XOR[i*6:(i+1)*6] for i in range(int(len(XOR)//6))])\n",
    "    \n",
    "    # print(\"S Box\")\n",
    "    # Inverting SBox\n",
    "    inved = [invSBox(XOR[i*6:(i+1)*6],i) for i in range(int(len(XOR)//6))]\n",
    "    print(inved)\n",
    "    inved = ''.join(inved)\n",
    "    \n",
    "    # print(\"XOR 2\")\n",
    "    # XOR with Left\n",
    "    lList = [int(i) for i in left]\n",
    "    iList = [int(i) for i in inved]\n",
    "    xList2 = []\n",
    "    for i in range(len(lList)) :\n",
    "        xList2.append(str(lList[i]^iList[i]))\n",
    "    XOR2 = ''.join(xList2)\n",
    "    print([XOR2[i*4:(i+1)*4] for i in range(int(len(XOR2)//4))])\n",
    "    \n",
    "    # print(\"Swap\")\n",
    "    # Swapping\n",
    "    newRight = left\n",
    "    newLeft = XOR2\n",
    "    print(newLeft,newRight)\n",
    "    \n",
    "    return newLeft + newRight"
   ]
  },
  {
   "cell_type": "code",
   "execution_count": 11,
   "metadata": {},
   "outputs": [
    {
     "name": "stdout",
     "output_type": "stream",
     "text": [
      "['00000000', '00000000', '00000000', '00001111', '00001101', '10110111', '11100101', '00100111']\n",
      "['0110000', '0010000', '0011100', '0000010', '1010100', '0111110', '0000111', '0000000']\n",
      "['010010', '000000', '000010', '100001', '000110', '110001', '001100', '100101']\n",
      "00000000000000000000000000000000 00000000000000000000000001100100\n",
      "00000000000000000000000001100100\n",
      "000000000000000000000000000000000000001100001000\n",
      "['010010', '000000', '000010', '100001', '000110', '110001', '000000', '101101']\n",
      "['1010', '1111', '0000', '0011', '0001', '1011', '0100', '1000']\n",
      "['1010', '1111', '0000', '0011', '0001', '1011', '0100', '1000']\n",
      "10101111000000110001101101001000 00000000000000000000000000000000\n"
     ]
    },
    {
     "data": {
      "text/plain": [
       "'1010111100000011000110110100100000000000000000000000000000000000'"
      ]
     },
     "execution_count": 11,
     "metadata": {},
     "output_type": "execute_result"
    }
   ],
   "source": [
    "DES(100,'111100001101101101111110010100100111')"
   ]
  },
  {
   "cell_type": "code",
   "execution_count": 12,
   "metadata": {},
   "outputs": [
    {
     "name": "stdout",
     "output_type": "stream",
     "text": [
      "11101110111011101110111010110010 00000000000000000000000000000000\n",
      "00000000000000000000000000000000\n",
      "000000000000000000000000000000000000000000000000\n",
      "['000000', '000000', '000000', '000000', '000000', '000000', '000000', '000000']\n",
      "['1110', '1111', '1010', '0111', '0010', '1100', '0100', '1101']\n",
      "['0000', '0001', '0100', '1001', '1100', '0010', '1111', '1111']\n",
      "00000001010010011100001011111111 11101110111011101110111010110010\n"
     ]
    },
    {
     "data": {
      "text/plain": [
       "'0000000101001001110000101111111111101110111011101110111010110010'"
      ]
     },
     "execution_count": 12,
     "metadata": {},
     "output_type": "execute_result"
    }
   ],
   "source": [
    "DES('1110111011101110111011101011001000000000000000000000000000000000')"
   ]
  },
  {
   "cell_type": "code",
   "execution_count": 10,
   "metadata": {},
   "outputs": [
    {
     "data": {
      "text/plain": [
       "'111100001101101101111110010100100111'"
      ]
     },
     "execution_count": 10,
     "metadata": {},
     "output_type": "execute_result"
    }
   ],
   "source": [
    "bin(64654664999)[2:]"
   ]
  },
  {
   "cell_type": "code",
   "execution_count": null,
   "metadata": {},
   "outputs": [],
   "source": []
  }
 ],
 "metadata": {
  "kernelspec": {
   "display_name": "Python 3",
   "language": "python",
   "name": "python3"
  },
  "language_info": {
   "codemirror_mode": {
    "name": "ipython",
    "version": 3
   },
   "file_extension": ".py",
   "mimetype": "text/x-python",
   "name": "python",
   "nbconvert_exporter": "python",
   "pygments_lexer": "ipython3",
   "version": "3.7.3"
  }
 },
 "nbformat": 4,
 "nbformat_minor": 2
}
