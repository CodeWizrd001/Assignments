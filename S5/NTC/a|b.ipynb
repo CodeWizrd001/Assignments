{
 "cells": [
  {
   "cell_type": "code",
   "execution_count": 5,
   "metadata": {},
   "outputs": [],
   "source": [
    "# a |x b"
   ]
  },
  {
   "cell_type": "code",
   "execution_count": 2,
   "metadata": {},
   "outputs": [
    {
     "name": "stdout",
     "output_type": "stream",
     "text": [
      "8\n",
      "42\n"
     ]
    }
   ],
   "source": [
    "a=int(input())\n",
    "b=int(input())"
   ]
  },
  {
   "cell_type": "code",
   "execution_count": 4,
   "metadata": {},
   "outputs": [
    {
     "name": "stdout",
     "output_type": "stream",
     "text": [
      "-7 98\n",
      "-6 90\n",
      "-5 82\n",
      "-4 74\n",
      "-3 66\n",
      "-2 58\n",
      "-1 50\n",
      "0 42\n",
      "1 34\n",
      "2 26\n",
      "3 18\n",
      "4 10\n",
      "5 2\n",
      "6 -6\n",
      "7 -14\n",
      "8 -22\n",
      "9 -30\n",
      "10 -38\n",
      "11 -46\n",
      "12 -54\n",
      "13 -62\n",
      "14 -70\n",
      "15 -78\n",
      "16 -86\n",
      "17 -94\n"
     ]
    }
   ],
   "source": [
    "for i in range(-100,100):\n",
    "    for j in range(-100,100):\n",
    "        if b==i*a+j:\n",
    "            print(str(i)+\" \"+str(j))"
   ]
  },
  {
   "cell_type": "code",
   "execution_count": null,
   "metadata": {},
   "outputs": [],
   "source": []
  }
 ],
 "metadata": {
  "kernelspec": {
   "display_name": "Python 3",
   "language": "python",
   "name": "python3"
  },
  "language_info": {
   "codemirror_mode": {
    "name": "ipython",
    "version": 3
   },
   "file_extension": ".py",
   "mimetype": "text/x-python",
   "name": "python",
   "nbconvert_exporter": "python",
   "pygments_lexer": "ipython3",
   "version": "3.7.3"
  }
 },
 "nbformat": 4,
 "nbformat_minor": 2
}
