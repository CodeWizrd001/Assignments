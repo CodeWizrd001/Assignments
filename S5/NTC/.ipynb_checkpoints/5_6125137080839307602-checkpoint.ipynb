{
 "cells": [
  {
   "cell_type": "markdown",
   "metadata": {},
   "source": [
    "# Cryptoanalysis for Hill Cipher"
   ]
  },
  {
   "cell_type": "markdown",
   "metadata": {},
   "source": [
    "### 1)Known PlainText Attack"
   ]
  },
  {
   "cell_type": "code",
   "execution_count": 2,
   "metadata": {},
   "outputs": [],
   "source": [
    "from sympy import Matrix\n",
    "import numpy as np"
   ]
  },
  {
   "cell_type": "code",
   "execution_count": 3,
   "metadata": {},
   "outputs": [],
   "source": [
    "def knownplain_hill(plain,cipher,size):\n",
    "    #Assume that the size of block is fixed and is known to us\n",
    "    #Plain text is assumed to be appended with bogus characters if any\n",
    "    #Plain text should be in multiple of 'size'\n",
    "    #Plain Matrix should be invertible\n",
    "    \n",
    "    #Convert into appropriate text\n",
    "    plain = plain.upper().replace(' ','')\n",
    "    cipher = cipher.upper().replace(' ','')\n",
    "    \n",
    "    n=size\n",
    "    # Split the text into chunks of size n where key is N*N matrix\n",
    "    chunks = [plain[i:i+n] for i in range(0, len(plain), n)]\n",
    "    \n",
    "    plain_matrix=[]\n",
    "    # Convert the alphabets into their corresponding integers\n",
    "    #Form the matrix for the given plain text\n",
    "    for string in chunks:\n",
    "        a=[]\n",
    "        for c in string:\n",
    "           a.append(ord(c)-ord('A'))\n",
    "        plain_matrix.append(a)\n",
    "  \n",
    "    plain_matrix = Matrix(plain_matrix)\n",
    "    \n",
    "    plain_inv = plain_matrix.inv_mod(26)\n",
    "    \n",
    "    # We know C = P.K, thus K = P-1 . C\n",
    "    plain_inv = np.array(plain_inv)\n",
    "    keymatrix = np.dot(plain_inv,c)\n",
    "    return keymatrix"
   ]
  },
  {
   "cell_type": "code",
   "execution_count": null,
   "metadata": {},
   "outputs": [],
   "source": [
    "text = input('Enter the plain text: ')\n",
    "print(text)\n",
    "cipher = input('Enter the cipher text for above plain text: ')\n",
    "print(knownplain_hill(text,cipher,4))"
   ]
  },
  {
   "cell_type": "code",
   "execution_count": null,
   "metadata": {},
   "outputs": [],
   "source": []
  }
 ],
 "metadata": {
  "kernelspec": {
   "display_name": "SageMath 9.1",
   "language": "sage",
   "name": "sagemath"
  },
  "language_info": {
   "codemirror_mode": {
    "name": "ipython",
    "version": 3
   },
   "file_extension": ".py",
   "mimetype": "text/x-python",
   "name": "python",
   "nbconvert_exporter": "python",
   "pygments_lexer": "ipython3",
   "version": "3.7.3"
  }
 },
 "nbformat": 4,
 "nbformat_minor": 2
}
