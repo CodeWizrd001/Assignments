{
 "cells": [
  {
   "cell_type": "code",
   "execution_count": 1,
   "metadata": {},
   "outputs": [],
   "source": [
    "# All Utility Imports Which Are Required To Functioning of the Cryptosystem"
   ]
  },
  {
   "cell_type": "code",
   "execution_count": 2,
   "metadata": {},
   "outputs": [],
   "source": [
    "import string\n",
    "import random\n",
    "import math\n",
    "from math import gcd \n",
    "import numpy as np\n",
    "from sympy import Matrix\n",
    "from collections import Counter\n",
    "from itertools import permutations , combinations"
   ]
  },
  {
   "cell_type": "code",
   "execution_count": 3,
   "metadata": {},
   "outputs": [],
   "source": [
    "# Creating the wordlist dictionary\n",
    "# Defining Other Necessary Variables"
   ]
  },
  {
   "cell_type": "code",
   "execution_count": 4,
   "metadata": {},
   "outputs": [],
   "source": [
    "alphaDictCaps = {}\n",
    "\n",
    "dictFile = open(\"dictionary.txt\")\n",
    "dictionary = [i.strip('\\n') for i in dictFile.readlines() if (len(i.strip('\\n'))) != 1 and (len(i.strip('\\n'))) != 2]\n",
    "\n",
    "freqDict = {\n",
    "    12.7 : ['E'] ,\n",
    "    9.1 : ['T'] ,\n",
    "    8.2 : ['A'] ,\n",
    "    7.5 : ['O'] ,\n",
    "    7.0 : ['I'] ,\n",
    "    6.7 : ['N'] ,\n",
    "    6.3 : ['S'] ,\n",
    "    6.1 : ['H'] ,\n",
    "    6.0 : ['R'] ,\n",
    "    4.3 : ['D'] ,\n",
    "    4.0 : ['L'] ,\n",
    "    2.8 : ['C','U'] ,\n",
    "    2.4 : ['M'] ,\n",
    "    2.3 : ['W'] ,\n",
    "    2.2 : ['F'] ,\n",
    "    2.0 : ['G','Y'] ,\n",
    "    1.9 : ['P'] ,\n",
    "    1.5 : ['B'] ,\n",
    "    1.0 : ['V'] ,\n",
    "    0.08 : ['K'] ,\n",
    "    0.02 : ['J'] ,\n",
    "    0.01 : ['Q','X','Z'] ,\n",
    "}\n",
    "\n",
    "def freqRound(x) :\n",
    "    if x >= 12.7 :\n",
    "        return 12.7 \n",
    "    elif x >= 9.1 :\n",
    "        return 9.1\n",
    "    elif x >= 8.2 :\n",
    "        return 8.2\n",
    "    elif x >= 7.5 :\n",
    "        return 7.5\n",
    "    elif x >= 7.0 :\n",
    "        return 7.0\n",
    "    elif x >= 6.7 :\n",
    "        return 6.7\n",
    "    elif x >= 6.3 :\n",
    "        return 6.3 \n",
    "    elif x >= 6.1 :\n",
    "        return 6.1\n",
    "    elif x >= 6.0 :\n",
    "        return 6.0\n",
    "    elif x >= 4.3 :\n",
    "        return 4.3\n",
    "    elif x >= 4.0 :\n",
    "        return 4.0\n",
    "    elif x >= 2.8 :\n",
    "        return 2.8\n",
    "    elif x >= 2.4 :\n",
    "        return 2.4\n",
    "    elif x >= 2.3 :\n",
    "        return 2.3 \n",
    "    elif x >= 2.2 :\n",
    "        return 2.2\n",
    "    elif x >= 2.0 :\n",
    "        return 2.0\n",
    "    elif x >= 1.9 :\n",
    "        return 1.9\n",
    "    elif x >= 1.5 :\n",
    "        return 1.5\n",
    "    elif x >= 1.0 :\n",
    "        return 1.0\n",
    "    elif x >= 0.08 :\n",
    "        return 0.08\n",
    "    elif x >= 0.02 :\n",
    "        return 0.02\n",
    "    else :\n",
    "        return 0.01\n",
    "\n",
    "upper = string.ascii_uppercase\n",
    "for i in range(len(upper)) :\n",
    "    alphaDictCaps[i] = upper[i]\n",
    "    alphaDictCaps[upper[i]] = i\n",
    "alphaDict = {}\n",
    "chars = string.ascii_uppercase + string.ascii_lowercase\n",
    "for i in range(len(chars)) :\n",
    "    alphaDict[i] = chars[i]\n",
    "    alphaDict[chars[i]] = i"
   ]
  },
  {
   "cell_type": "code",
   "execution_count": 5,
   "metadata": {},
   "outputs": [],
   "source": [
    "# Defining Custom Exception Which Might Be Raised during Execution"
   ]
  },
  {
   "cell_type": "code",
   "execution_count": 6,
   "metadata": {},
   "outputs": [],
   "source": [
    "class ParameterError(BaseException) :\n",
    "    def toDict(self) :\n",
    "        return None\n",
    "\n",
    "class KeyException(BaseException) :\n",
    "    def toDict(self) :\n",
    "        return None"
   ]
  },
  {
   "cell_type": "code",
   "execution_count": 7,
   "metadata": {},
   "outputs": [],
   "source": [
    "# Defining Common Utility Functions "
   ]
  },
  {
   "cell_type": "code",
   "execution_count": 8,
   "metadata": {},
   "outputs": [],
   "source": [
    "def power(x, y, m) : \n",
    "    if (y == 0) : \n",
    "        return 1\n",
    "    p = power(x, y // 2, m) % m \n",
    "    p = (p * p) % m \n",
    "    print(p)\n",
    "    if(y % 2 == 0) : \n",
    "        return p  \n",
    "    else :  \n",
    "        return ((x * p) % m)\n",
    "\n",
    "def modInverse(a, m) : \n",
    "    g = gcd(a, m) \n",
    "    if (g != 1) : \n",
    "        return -1 \n",
    "    else :\n",
    "        return power(a, m - 2, m)\n",
    "    \n",
    "def bruteInverse(a,m) :\n",
    "    if gcd(a,m) != 1 :\n",
    "        return -1 \n",
    "    for i in range(26) :\n",
    "        if (i*a)%m == 1 :\n",
    "            return i\n",
    "\n",
    "def getRandomValue(*args,**kwargs) :\n",
    "    return random.randint(0,100)\n",
    "\n",
    "def getRandomKey() :\n",
    "    temp = list(upper)\n",
    "    temp.sort(key=getRandomValue)\n",
    "    return ''.join(temp)"
   ]
  },
  {
   "cell_type": "code",
   "execution_count": 9,
   "metadata": {},
   "outputs": [],
   "source": [
    "# Define Shift Cryptosystem\n",
    "\n",
    "class ShiftCryptosystem :\n",
    "    # Initialize with default values\n",
    "    def __init__(self) :\n",
    "        self.plainText = \"\"\n",
    "        self.cipherText = \"\"\n",
    "        self.k = 0\n",
    "\n",
    "    # Supports Uppercase only and Uppercase And Lowercase mode \n",
    "    # Can be controlled by passing caps argument as true or false\n",
    "    # Caps is true by default\n",
    "    def shiftEnc(self,string,k=0,*args,**kwargs) :\n",
    "        # Saving Current Context\n",
    "        self.plainText = string\n",
    "        self.k = k\n",
    "        # All Caps or not\n",
    "        caps = kwargs.get('caps',True)\n",
    "        # Dictionary of characters\n",
    "        if caps :\n",
    "            string = string.upper()\n",
    "            aD = kwargs.get('aD',alphaDictCaps)\n",
    "        else :\n",
    "            aD = kwargs.get('aD',alphaDict)\n",
    "        \n",
    "        m = len(aD) / 2\n",
    "        m = int(m)\n",
    "        \n",
    "        # C = P + b % m\n",
    "        cipherText = \"\".join([aD[(aD[i] + k ) % m] for i in string])\n",
    "        \n",
    "        # Saving Output\n",
    "        self.cipherText = cipherText\n",
    "        \n",
    "        return cipherText\n",
    "\n",
    "    # Supports Uppercase only and Uppercase And Lowercase mode \n",
    "    # Can be controlled by passing caps argument as true or false\n",
    "    # Caps is true by default\n",
    "    def shiftDec(self,string,k=0,*args,**kwargs) :\n",
    "        # Saving Current Context\n",
    "        self.cipherText = string\n",
    "        self.k = k\n",
    "        # All Caps or not\n",
    "        caps = kwargs.get('caps',True)\n",
    "        # Dictionary of characters\n",
    "        if caps :\n",
    "            string = string.upper()\n",
    "            aD = kwargs.get('aD',alphaDictCaps)\n",
    "        else :\n",
    "            aD = kwargs.get('aD',alphaDict)\n",
    "        \n",
    "        m = len(aD) / 2\n",
    "        m = int(m)\n",
    "        \n",
    "        # P = C - b % m\n",
    "        plainText = \"\".join([aD[((aD[i] - k )) % m] for i in string])\n",
    "        \n",
    "        # Saving output\n",
    "        self.plainText = plainText\n",
    "        \n",
    "        return plainText\n",
    "    \n",
    "    # Displays the details of previous action\n",
    "    def __repr__(self) :\n",
    "        return f\"\"\"\n",
    "        PlainText  : {self.plainText}\n",
    "        CipherText : {self.cipherText}\n",
    "        A          : {self.k}\n",
    "        \"\"\""
   ]
  },
  {
   "cell_type": "code",
   "execution_count": 10,
   "metadata": {},
   "outputs": [],
   "source": [
    "# Create A Cryptosystem\n",
    "sCrypto = ShiftCryptosystem()"
   ]
  },
  {
   "cell_type": "code",
   "execution_count": 11,
   "metadata": {},
   "outputs": [
    {
     "data": {
      "text/plain": [
       "'WTAADTKTGNDCT'"
      ]
     },
     "execution_count": 11,
     "metadata": {},
     "output_type": "execute_result"
    }
   ],
   "source": [
    "sCrypto.shiftEnc(\"HELLOEVERYONE\",15,caps=True)"
   ]
  },
  {
   "cell_type": "code",
   "execution_count": 12,
   "metadata": {},
   "outputs": [
    {
     "data": {
      "text/plain": [
       "\n",
       "        PlainText  : HELLOEVERYONE\n",
       "        CipherText : WTAADTKTGNDCT\n",
       "        A          : 15\n",
       "        "
      ]
     },
     "execution_count": 12,
     "metadata": {},
     "output_type": "execute_result"
    }
   ],
   "source": [
    "sCrypto"
   ]
  },
  {
   "cell_type": "code",
   "execution_count": 13,
   "metadata": {},
   "outputs": [
    {
     "data": {
      "text/plain": [
       "'HELLOWORLD'"
      ]
     },
     "execution_count": 13,
     "metadata": {},
     "output_type": "execute_result"
    }
   ],
   "source": [
    "sCrypto.shiftDec('IFMMPXPSME',1,caps=True)"
   ]
  },
  {
   "cell_type": "code",
   "execution_count": 14,
   "metadata": {},
   "outputs": [
    {
     "data": {
      "text/plain": [
       "\n",
       "        PlainText  : HELLOWORLD\n",
       "        CipherText : IFMMPXPSME\n",
       "        A          : 1\n",
       "        "
      ]
     },
     "execution_count": 14,
     "metadata": {},
     "output_type": "execute_result"
    }
   ],
   "source": [
    "sCrypto"
   ]
  },
  {
   "cell_type": "code",
   "execution_count": 15,
   "metadata": {},
   "outputs": [],
   "source": [
    "# Cryptanalysis"
   ]
  },
  {
   "cell_type": "code",
   "execution_count": 16,
   "metadata": {},
   "outputs": [],
   "source": [
    "# Cryptanalysis of shift Cipher\n",
    "\n",
    "analysisSystem = ShiftCryptosystem()\n",
    "\n",
    "# Bruteforce attack\n",
    "def bruteShift(string,top=-1) :\n",
    "    matchDict = {}\n",
    "    matchList = []\n",
    "    print(\"[+] Running Bruteforce\")\n",
    "    for i in range(1,26) :\n",
    "        for j in dictionary :\n",
    "            plainText = analysisSystem.shiftDec(string,i).upper()\n",
    "            if j.upper() in plainText :\n",
    "                # print(f\"{i:2d} {plainText} {j}\")\n",
    "                try :\n",
    "                    matchDict[plainText] += 1\n",
    "                except :\n",
    "                    matchDict[plainText] = 1\n",
    "                    matchList.append((i,plainText))\n",
    "    \n",
    "    print(\"[+] Bruteforce Loop Done\")\n",
    "    # Sort Matching List by number of word matches\n",
    "    matchList.sort(reverse=True,key = lambda x : matchDict[x[1]])\n",
    "    if top == -1 :\n",
    "        return matchList\n",
    "    else :\n",
    "        return matchList[:top]\n",
    "\n",
    "# Known Ciphertext Plaintext pair attack\n",
    "def knownPairShift(plainText,cipherText) :\n",
    "    assert len(plainText) == len(cipherText) , \"Invalid Pair\"\n",
    "    t = (ord(cipherText[0]) - ord(plainText[0])) % 26\n",
    "    for i in range(len(plainText)) :\n",
    "        assert (ord(cipherText[i]) - ord(plainText[i])) % 26 == t , \"Invalid Pair\"\n",
    "    return t\n",
    "\n",
    "# Frequency analysis attack\n",
    "def frequencyShift(string,top = -1) :\n",
    "    ans = []\n",
    "    freqList = [freqRound(10 * (string.count(i) / len(string))) for i in string]\n",
    "    # print(freqList)\n",
    "    for freq in freqList :\n",
    "        tAns = []\n",
    "        if ans == [] :\n",
    "            ans += freqDict[freq]\n",
    "            continue\n",
    "        for j in ans :\n",
    "            for k in freqDict[freq] :\n",
    "                tAns.append(j+k)\n",
    "        del(ans)\n",
    "        ans = list(set(tAns))\n",
    "    \n",
    "    matchDict = {}\n",
    "    matchList = []\n",
    "    \n",
    "    \n",
    "    for i in ans :\n",
    "        for j in dictionary :\n",
    "            try :\n",
    "                matchDict[i] += 1\n",
    "            except :\n",
    "                matchDict[i] = 1\n",
    "                matchList.append(i)\n",
    "            \n",
    "    # Sort Matching List by number of word matches\n",
    "    matchList.sort(reverse=True,key = lambda x : matchDict[x])\n",
    "    if top == -1 :\n",
    "        return matchList\n",
    "    else :\n",
    "        return matchList[:top]\n",
    "    return matchList\n",
    "\n",
    "# Statistical analysis attack\n",
    "def statisticalShift(cipherText,top = -1): \n",
    "    matchDict = {}\n",
    "    matchList = []\n",
    "    cipherText = cipherText.upper()\n",
    "    \n",
    "    freqDict = { \"A\" : 0,  \"B\" : 0,  \"C\" : 0,  \"D\" : 0,  \"E\" : 0, \"F\" : 0,  \"G\" : 0,\n",
    "        \"H\" : 0,  \"I\" : 0,  \"J\" : 0,  \"K\" : 0,  \"L\" : 0,  \"M \" : 0,  \"N\" : 0,  \"O\" :   0,\n",
    "        \"P\" : 0,  \"Q\" : 0,  \"R\" : 0,  \"S\" : 0,  \"T\" : 0,  \"U\" : 0,  \"V\" : 0,  \"W\" : 0,\n",
    "        \"X\" : 0,  \"Y\" : 0,  \"Z\" : 0 }\n",
    "    topList = ['E','T','A','O', 'I']\n",
    "    \n",
    "    print(\"[+] Running Statistical\")\n",
    "    \n",
    "    for letter in cipherText:\n",
    "        freqDict[letter] += 1 \n",
    "    topOccurences  = sorted(freqDict,reverse = True, key = lambda x : freqDict[x])\n",
    "    \n",
    "    probableKeys = []\n",
    "    \n",
    "    for i in range(5):\n",
    "        probableKeys.append((ord(topOccurences[i])-ord(topList[i]))%26)\n",
    "    \n",
    "    plaintxts = list()\n",
    "    # Loop through possible keys \n",
    "    # To find the possible values\n",
    "    for i in range(5):\n",
    "        i = probableKeys[i]\n",
    "        plainText = analysisSystem.shiftDec(cipherText, i)\n",
    "        for j in dictionary :\n",
    "                if j.upper() in plainText :\n",
    "                    try :\n",
    "                        matchDict[plainText] += len(j)\n",
    "                    except :\n",
    "                        matchDict[plainText] = len(j)\n",
    "                        matchList.append((i,plainText))\n",
    "    \n",
    "    print(\"[+] Statistical Loop Done\")\n",
    "    \n",
    "    # Sort Matching List by number of word matches\n",
    "    matchList.sort(reverse=True,key = lambda x : matchDict[x[1]])\n",
    "    if top == -1 :\n",
    "        return matchList\n",
    "    else :\n",
    "        return matchList[:top]\n",
    "    return matchList"
   ]
  },
  {
   "cell_type": "code",
   "execution_count": 17,
   "metadata": {},
   "outputs": [
    {
     "name": "stdout",
     "output_type": "stream",
     "text": [
      "[+] Running Bruteforce\n",
      "[+] Bruteforce Loop Done\n"
     ]
    },
    {
     "data": {
      "text/plain": [
       "[(15, 'HELLOEVERYONE'),\n",
       " (11, 'LIPPSIZIVCSRI'),\n",
       " (2, 'URYYBRIRELBAR'),\n",
       " (1, 'VSZZCSJSFMCBS'),\n",
       " (4, 'SPWWZPGPCJZYP')]"
      ]
     },
     "execution_count": 17,
     "metadata": {},
     "output_type": "execute_result"
    }
   ],
   "source": [
    "bruteShift('WTAADTKTGNDCT',5)"
   ]
  },
  {
   "cell_type": "code",
   "execution_count": 18,
   "metadata": {},
   "outputs": [
    {
     "data": {
      "text/plain": [
       "11"
      ]
     },
     "execution_count": 18,
     "metadata": {},
     "output_type": "execute_result"
    }
   ],
   "source": [
    "knownPairShift('WTAADTKTGNDCT','HELLOEVERYONE')"
   ]
  },
  {
   "cell_type": "code",
   "execution_count": 19,
   "metadata": {},
   "outputs": [
    {
     "data": {
      "text/plain": [
       "['KCBBBCKCKKBKU',\n",
       " 'KUBBBCKUKKBKU',\n",
       " 'KUBBBCKUKKBKC',\n",
       " 'KUBBBUKUKKBKU',\n",
       " 'KCBBBUKCKKBKU']"
      ]
     },
     "execution_count": 19,
     "metadata": {},
     "output_type": "execute_result"
    }
   ],
   "source": [
    "frequencyShift('WTAADTKTGNDCT',5)"
   ]
  },
  {
   "cell_type": "code",
   "execution_count": 20,
   "metadata": {},
   "outputs": [
    {
     "name": "stdout",
     "output_type": "stream",
     "text": [
      "[+] Running Statistical\n",
      "[+] Statistical Loop Done\n"
     ]
    },
    {
     "data": {
      "text/plain": [
       "[(15, 'HELLOEVERYONE'), (24, 'YVCCFVMVIPFEV')]"
      ]
     },
     "execution_count": 20,
     "metadata": {},
     "output_type": "execute_result"
    }
   ],
   "source": [
    "statisticalShift('WTAADTKTGNDCT',5)"
   ]
  },
  {
   "cell_type": "code",
   "execution_count": null,
   "metadata": {},
   "outputs": [],
   "source": []
  }
 ],
 "metadata": {
  "kernelspec": {
   "display_name": "SageMath 9.1",
   "language": "sage",
   "name": "sagemath"
  },
  "language_info": {
   "codemirror_mode": {
    "name": "ipython",
    "version": 3
   },
   "file_extension": ".py",
   "mimetype": "text/x-python",
   "name": "python",
   "nbconvert_exporter": "python",
   "pygments_lexer": "ipython3",
   "version": "3.7.3"
  }
 },
 "nbformat": 4,
 "nbformat_minor": 2
}
