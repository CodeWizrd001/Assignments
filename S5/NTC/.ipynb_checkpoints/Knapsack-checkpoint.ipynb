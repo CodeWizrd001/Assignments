{
 "cells": [
  {
   "cell_type": "code",
   "execution_count": 1,
   "metadata": {},
   "outputs": [],
   "source": [
    "import numpy as np\n",
    "from math import gcd "
   ]
  },
  {
   "cell_type": "code",
   "execution_count": 2,
   "metadata": {},
   "outputs": [
    {
     "name": "stdout",
     "output_type": "stream",
     "text": [
      "[543. 407. 223. 703. 259. 781. 409.]\n"
     ]
    }
   ],
   "source": [
    "b = np.array([7,11,19,39,79,157,313])\n",
    "n = 900\n",
    "r = 37\n",
    "pT = [4,2,5,3,1,7,6]\n",
    "t = r * b % n\n",
    "a = np.zeros(b.shape)\n",
    "\n",
    "for i in range(len(pT)) :\n",
    "    a[i] = t[pT[i]-1]\n",
    "    \n",
    "print(a)\n",
    "\n",
    "def bit7(x) :\n",
    "    t = bin(ord(x))[2:]\n",
    "    if len(t) == 8 :\n",
    "        t = t[1:]\n",
    "    while len(t) < 7 :\n",
    "        t = '0' + t\n",
    "    return t\n",
    "\n",
    "def encrypt(x) :\n",
    "    x = bit7(x)\n",
    "    x = [int(i) for i in x]\n",
    "    print(x)\n",
    "    y = [a[i] * x[i] for i in range(len(x))]\n",
    "    print(y)\n",
    "    return sum(y)"
   ]
  },
  {
   "cell_type": "code",
   "execution_count": 3,
   "metadata": {},
   "outputs": [
    {
     "name": "stdout",
     "output_type": "stream",
     "text": [
      "[1, 1, 0, 0, 1, 1, 1]\n",
      "[543.0, 407.0, 0.0, 0.0, 259.0, 781.0, 409.0]\n"
     ]
    },
    {
     "data": {
      "text/plain": [
       "2399.0"
      ]
     },
     "execution_count": 3,
     "metadata": {},
     "output_type": "execute_result"
    }
   ],
   "source": [
    "encrypt('g')"
   ]
  },
  {
   "cell_type": "code",
   "execution_count": 7,
   "metadata": {},
   "outputs": [],
   "source": [
    "def bruteInverse(a,m) :\n",
    "    if gcd(a,m) != 1 :\n",
    "        return -1 \n",
    "    for i in range(m) :\n",
    "        if (i*a)%m == 1 :\n",
    "            return i\n",
    "\n",
    "s = 2399\n",
    "r_ = bruteInverse(r,n)\n",
    "s_ = s * r_ % n\n",
    "\n",
    "bRev = list(b)\n",
    "bRev.reverse()\n",
    "\n",
    "def decrypt(s_):\n",
    "    x_ = np.zeros(b.shape)\n",
    "    for i in range(len(bRev)) :\n",
    "        if bRev[i] <= s_ :\n",
    "            s_ -= bRev[i]\n",
    "            x_[i] = 1\n",
    "        else :\n",
    "            x_[i] = 0\n",
    "    print(x_)\n",
    "    temp = np.zeros(b.shape)\n",
    "    \n",
    "    for i in range(len(pT)) :\n",
    "        temp[i] = x_[pT[i]-1]\n",
    "    \n",
    "    return chr(int('0b'+''.join([str(int(i)) for i in temp]),2))"
   ]
  },
  {
   "cell_type": "code",
   "execution_count": 8,
   "metadata": {},
   "outputs": [
    {
     "name": "stdout",
     "output_type": "stream",
     "text": [
      "[1. 1. 0. 1. 0. 1. 1.]\n"
     ]
    },
    {
     "data": {
      "text/plain": [
       "'g'"
      ]
     },
     "execution_count": 8,
     "metadata": {},
     "output_type": "execute_result"
    }
   ],
   "source": [
    "decrypt(s_)"
   ]
  },
  {
   "cell_type": "code",
   "execution_count": null,
   "metadata": {},
   "outputs": [],
   "source": []
  }
 ],
 "metadata": {
  "kernelspec": {
   "display_name": "Python 3",
   "language": "python",
   "name": "python3"
  },
  "language_info": {
   "codemirror_mode": {
    "name": "ipython",
    "version": 3
   },
   "file_extension": ".py",
   "mimetype": "text/x-python",
   "name": "python",
   "nbconvert_exporter": "python",
   "pygments_lexer": "ipython3",
   "version": "3.7.3"
  }
 },
 "nbformat": 4,
 "nbformat_minor": 2
}
