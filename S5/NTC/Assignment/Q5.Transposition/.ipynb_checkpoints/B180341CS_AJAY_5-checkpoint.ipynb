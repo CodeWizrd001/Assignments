{
 "cells": [
  {
   "cell_type": "code",
   "execution_count": null,
   "metadata": {},
   "outputs": [],
   "source": [
    "# All Utility Imports Which Are Required To Functioning of the Cryptosystem"
   ]
  },
  {
   "cell_type": "code",
   "execution_count": null,
   "metadata": {},
   "outputs": [],
   "source": [
    "import string\n",
    "import random\n",
    "import math\n",
    "from math import gcd \n",
    "import numpy as np\n",
    "from sympy import Matrix\n",
    "from collections import Counter\n",
    "from itertools import permutations , combinations"
   ]
  },
  {
   "cell_type": "code",
   "execution_count": null,
   "metadata": {},
   "outputs": [],
   "source": [
    "# Creating the wordlist dictionary\n",
    "# Defining Other Necessary Variables"
   ]
  },
  {
   "cell_type": "code",
   "execution_count": null,
   "metadata": {},
   "outputs": [],
   "source": [
    "alphaDictCaps = {}\n",
    "\n",
    "dictFile = open(\"dictionary.txt\")\n",
    "dictionary = [i.strip('\\n') for i in dictFile.readlines() if (len(i.strip('\\n'))) != 1 and (len(i.strip('\\n'))) != 2]\n",
    "\n",
    "freqDict = {\n",
    "    12.7 : ['E'] ,\n",
    "    9.1 : ['T'] ,\n",
    "    8.2 : ['A'] ,\n",
    "    7.5 : ['O'] ,\n",
    "    7.0 : ['I'] ,\n",
    "    6.7 : ['N'] ,\n",
    "    6.3 : ['S'] ,\n",
    "    6.1 : ['H'] ,\n",
    "    6.0 : ['R'] ,\n",
    "    4.3 : ['D'] ,\n",
    "    4.0 : ['L'] ,\n",
    "    2.8 : ['C','U'] ,\n",
    "    2.4 : ['M'] ,\n",
    "    2.3 : ['W'] ,\n",
    "    2.2 : ['F'] ,\n",
    "    2.0 : ['G','Y'] ,\n",
    "    1.9 : ['P'] ,\n",
    "    1.5 : ['B'] ,\n",
    "    1.0 : ['V'] ,\n",
    "    0.08 : ['K'] ,\n",
    "    0.02 : ['J'] ,\n",
    "    0.01 : ['Q','X','Z'] ,\n",
    "}\n",
    "\n",
    "def freqRound(x) :\n",
    "    if x >= 12.7 :\n",
    "        return 12.7 \n",
    "    elif x >= 9.1 :\n",
    "        return 9.1\n",
    "    elif x >= 8.2 :\n",
    "        return 8.2\n",
    "    elif x >= 7.5 :\n",
    "        return 7.5\n",
    "    elif x >= 7.0 :\n",
    "        return 7.0\n",
    "    elif x >= 6.7 :\n",
    "        return 6.7\n",
    "    elif x >= 6.3 :\n",
    "        return 6.3 \n",
    "    elif x >= 6.1 :\n",
    "        return 6.1\n",
    "    elif x >= 6.0 :\n",
    "        return 6.0\n",
    "    elif x >= 4.3 :\n",
    "        return 4.3\n",
    "    elif x >= 4.0 :\n",
    "        return 4.0\n",
    "    elif x >= 2.8 :\n",
    "        return 2.8\n",
    "    elif x >= 2.4 :\n",
    "        return 2.4\n",
    "    elif x >= 2.3 :\n",
    "        return 2.3 \n",
    "    elif x >= 2.2 :\n",
    "        return 2.2\n",
    "    elif x >= 2.0 :\n",
    "        return 2.0\n",
    "    elif x >= 1.9 :\n",
    "        return 1.9\n",
    "    elif x >= 1.5 :\n",
    "        return 1.5\n",
    "    elif x >= 1.0 :\n",
    "        return 1.0\n",
    "    elif x >= 0.08 :\n",
    "        return 0.08\n",
    "    elif x >= 0.02 :\n",
    "        return 0.02\n",
    "    else :\n",
    "        return 0.01\n",
    "\n",
    "upper = string.ascii_uppercase\n",
    "for i in range(len(upper)) :\n",
    "    alphaDictCaps[i] = upper[i]\n",
    "    alphaDictCaps[upper[i]] = i\n",
    "alphaDict = {}\n",
    "chars = string.ascii_uppercase + string.ascii_lowercase\n",
    "for i in range(len(chars)) :\n",
    "    alphaDict[i] = chars[i]\n",
    "    alphaDict[chars[i]] = i"
   ]
  },
  {
   "cell_type": "code",
   "execution_count": null,
   "metadata": {},
   "outputs": [],
   "source": [
    "# Defining Custom Exception Which Might Be Raised during Execution"
   ]
  },
  {
   "cell_type": "code",
   "execution_count": null,
   "metadata": {},
   "outputs": [],
   "source": [
    "class ParameterError(BaseException) :\n",
    "    def toDict(self) :\n",
    "        return None\n",
    "\n",
    "class KeyException(BaseException) :\n",
    "    def toDict(self) :\n",
    "        return None"
   ]
  },
  {
   "cell_type": "code",
   "execution_count": null,
   "metadata": {},
   "outputs": [],
   "source": [
    "# Defining Common Utility Functions "
   ]
  },
  {
   "cell_type": "code",
   "execution_count": null,
   "metadata": {},
   "outputs": [],
   "source": [
    "def power(x, y, m) : \n",
    "    if (y == 0) : \n",
    "        return 1\n",
    "    p = power(x, y // 2, m) % m \n",
    "    p = (p * p) % m \n",
    "    print(p)\n",
    "    if(y % 2 == 0) : \n",
    "        return p  \n",
    "    else :  \n",
    "        return ((x * p) % m)\n",
    "\n",
    "def modInverse(a, m) : \n",
    "    g = gcd(a, m) \n",
    "    if (g != 1) : \n",
    "        return -1 \n",
    "    else :\n",
    "        return power(a, m - 2, m)\n",
    "    \n",
    "def bruteInverse(a,m) :\n",
    "    if gcd(a,m) != 1 :\n",
    "        return -1 \n",
    "    for i in range(26) :\n",
    "        if (i*a)%m == 1 :\n",
    "            return i\n",
    "\n",
    "def getRandomValue(*args,**kwargs) :\n",
    "    return random.randint(0,100)\n",
    "\n",
    "def getRandomKey() :\n",
    "    temp = list(upper)\n",
    "    temp.sort(key=getRandomValue)\n",
    "    return ''.join(temp)"
   ]
  },
  {
   "cell_type": "code",
   "execution_count": null,
   "metadata": {},
   "outputs": [],
   "source": [
    "# Define Transposition Cryptosystem\n",
    "\n",
    "class TransCryptosystem :\n",
    "    # Initialize with default values\n",
    "    def __init__(self) :\n",
    "        self.plainText = \"\"\n",
    "        self.cipherText = \"\"\n",
    "        self.k = 0\n",
    "\n",
    "    def transEncRF(self,string) :\n",
    "        m = math.ceil(len(string) / 2)\n",
    "        while len(string) < 2*m :\n",
    "            string += \" \"\n",
    "        a = np.array(list(string))\n",
    "        a = a.reshape((2,m))\n",
    "        a = a.T\n",
    "        a = a.flatten()\n",
    "        output = ''.join(a)\n",
    "        return output\n",
    "\n",
    "    def transDecRF(self,string) :\n",
    "        m = math.ceil(len(string) / 2)\n",
    "        while len(string) < 2*m :\n",
    "            string += \" \"\n",
    "        a = np.array(list(string))\n",
    "        a = a.reshape((m,2))\n",
    "        a = a.T\n",
    "        a = a.flatten()\n",
    "        output = ''.join(a)\n",
    "        return output\n",
    "\n",
    "    def transCipherKeyless(self,string) :\n",
    "        m = math.ceil(math.sqrt(len(string)))\n",
    "        while len(string) < m*m :\n",
    "            string += \"#\"\n",
    "        a = np.array(list(string))\n",
    "        a = a.reshape((m,m))\n",
    "        a = a.T\n",
    "        a = a.flatten()\n",
    "        output = ''.join(a)\n",
    "        return output\n",
    "\n",
    "    def transKeyEnc(self,string,key) :\n",
    "        m = len(key)\n",
    "        while len(string) % m != 0 :\n",
    "            string += \" \"\n",
    "        chunks = [string[i*m:(i+1)*m] for i in range(int(len(string)//m))]\n",
    "        ans = [[' ']*m for i in chunks]\n",
    "        for i in range(len(ans)) :\n",
    "            for j in range(m) :\n",
    "                ans[i][j] = chunks[i][key[j]]\n",
    "            ans[i] = ''.join(ans[i])\n",
    "        cipherText = ''.join(ans)\n",
    "        return cipherText\n",
    "\n",
    "    def transKeyDec(self,string,key) :\n",
    "        m = len(key)\n",
    "        while len(string) % m != 0 :\n",
    "            string += \" \"\n",
    "        chunks = [string[i*m:(i+1)*m] for i in range(int(len(string)//m))]\n",
    "        ans = [[' ']*m for i in chunks]\n",
    "        for i in range(len(ans)) :\n",
    "            for j in range(m) :\n",
    "                ans[i][key[j]] = chunks[i][j]\n",
    "            ans[i] = ''.join(ans[i])\n",
    "        plainText = ''.join(ans)\n",
    "        return plainText\n",
    "    \n",
    "    # Displays the details of previous action\n",
    "    def __repr__(self) :\n",
    "        return f\"\"\"\n",
    "        PlainText  : {self.plainText}\n",
    "        CipherText : {self.cipherText}\n",
    "        A          : {self.k}\n",
    "        \"\"\""
   ]
  },
  {
   "cell_type": "code",
   "execution_count": null,
   "metadata": {},
   "outputs": [],
   "source": [
    "# Create A Cryptosystem\n",
    "tCrypto = TransCryptosystem()"
   ]
  },
  {
   "cell_type": "code",
   "execution_count": null,
   "metadata": {},
   "outputs": [],
   "source": [
    "tCrypto.transEncRF('HelloWorld')"
   ]
  },
  {
   "cell_type": "code",
   "execution_count": null,
   "metadata": {},
   "outputs": [],
   "source": [
    "tCrypto.transDecRF('HWeolrllod')"
   ]
  },
  {
   "cell_type": "code",
   "execution_count": null,
   "metadata": {},
   "outputs": [],
   "source": [
    "tCrypto.transCipherKeyless(\"HelloWorld\")"
   ]
  },
  {
   "cell_type": "code",
   "execution_count": null,
   "metadata": {},
   "outputs": [],
   "source": [
    "tCrypto.transCipherKeyless('Hol#eWd#lo##lr##')"
   ]
  },
  {
   "cell_type": "code",
   "execution_count": null,
   "metadata": {},
   "outputs": [],
   "source": [
    "tCrypto.transKeyEnc(\"HelloWorld\",[3,2,1,0])"
   ]
  },
  {
   "cell_type": "code",
   "execution_count": null,
   "metadata": {},
   "outputs": [],
   "source": [
    "tCrypto.transKeyDec('lleHroWo  dl',[3,2,1,0])"
   ]
  },
  {
   "cell_type": "code",
   "execution_count": null,
   "metadata": {},
   "outputs": [],
   "source": [
    "# Cryptanalysis"
   ]
  },
  {
   "cell_type": "code",
   "execution_count": null,
   "metadata": {},
   "outputs": [],
   "source": [
    "# Cryptanalysis of Transposition Cipher\n",
    "\n",
    "analysisSystem = TransCryptosystem()\n",
    "\n",
    "def factors(n) :\n",
    "    for i in range(2,n) :\n",
    "        if not n % i :\n",
    "            yield i\n",
    "\n",
    "# Bruteforce of Transposition Cipher\n",
    "def bruteTrans(cipherText,top = -1) :\n",
    "    l = len(cipherText)\n",
    "    \n",
    "    cipherText = cipherText.upper()\n",
    "    \n",
    "    blockLength = 0\n",
    "    \n",
    "    bruteList = []\n",
    "    \n",
    "    for bl in factors(l) :\n",
    "        if bl > 10 :\n",
    "            break\n",
    "        for key in permutations([i for i in range(bl)]) :\n",
    "            plainText = analysisSystem.transKeyDec(cipherText,key)\n",
    "            plainText = plainText.replace(\" \",\"\")\n",
    "            bruteList.append(plainText)\n",
    "    \n",
    "    matchDict = {}\n",
    "    matchList = []\n",
    "    \n",
    "    for i in bruteList :\n",
    "        for j in dictionary :\n",
    "            if j.upper() in i :\n",
    "                try :\n",
    "                    matchDict[i] += len(j)\n",
    "                except :\n",
    "                    matchDict[i] = len(j)\n",
    "    \n",
    "    for i in matchDict :\n",
    "        matchList.append((matchDict[i],i))\n",
    "                \n",
    "    matchList.sort(reverse=True,key = lambda x : matchDict[x[1]])\n",
    "    if top == -1 :\n",
    "        return matchList\n",
    "    else :\n",
    "        return matchList[:top]"
   ]
  },
  {
   "cell_type": "code",
   "execution_count": null,
   "metadata": {},
   "outputs": [],
   "source": [
    "bruteTrans('lleHroWo  dl',5)"
   ]
  },
  {
   "cell_type": "code",
   "execution_count": null,
   "metadata": {},
   "outputs": [],
   "source": []
  }
 ],
 "metadata": {
  "kernelspec": {
   "display_name": "SageMath 9.1",
   "language": "sage",
   "name": "sagemath"
  },
  "language_info": {
   "codemirror_mode": {
    "name": "ipython",
    "version": 3
   },
   "file_extension": ".py",
   "mimetype": "text/x-python",
   "name": "python",
   "nbconvert_exporter": "python",
   "pygments_lexer": "ipython3",
   "version": "3.7.3"
  }
 },
 "nbformat": 4,
 "nbformat_minor": 2
}
