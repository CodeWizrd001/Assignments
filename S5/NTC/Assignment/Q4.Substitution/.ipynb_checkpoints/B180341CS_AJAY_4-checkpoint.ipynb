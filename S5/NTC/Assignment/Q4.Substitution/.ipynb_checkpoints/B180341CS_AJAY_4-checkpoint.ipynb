{
 "cells": [
  {
   "cell_type": "code",
   "execution_count": null,
   "metadata": {},
   "outputs": [],
   "source": [
    "# All Utility Imports Which Are Required To Functioning of the Cryptosystem"
   ]
  },
  {
   "cell_type": "code",
   "execution_count": null,
   "metadata": {},
   "outputs": [],
   "source": [
    "import string\n",
    "import random\n",
    "import math\n",
    "from math import gcd \n",
    "import numpy as np\n",
    "from sympy import Matrix\n",
    "from collections import Counter\n",
    "from itertools import permutations , combinations"
   ]
  },
  {
   "cell_type": "code",
   "execution_count": null,
   "metadata": {},
   "outputs": [],
   "source": [
    "# Creating the wordlist dictionary\n",
    "# Defining Other Necessary Variables"
   ]
  },
  {
   "cell_type": "code",
   "execution_count": null,
   "metadata": {},
   "outputs": [],
   "source": [
    "alphaDictCaps = {}\n",
    "\n",
    "dictFile = open(\"../dictionary.txt\")\n",
    "dictionary = [i.strip('\\n') for i in dictFile.readlines() if (len(i.strip('\\n'))) != 1 and (len(i.strip('\\n'))) != 2]\n",
    "\n",
    "freqDict = {\n",
    "    12.7 : ['E'] ,\n",
    "    9.1 : ['T'] ,\n",
    "    8.2 : ['A'] ,\n",
    "    7.5 : ['O'] ,\n",
    "    7.0 : ['I'] ,\n",
    "    6.7 : ['N'] ,\n",
    "    6.3 : ['S'] ,\n",
    "    6.1 : ['H'] ,\n",
    "    6.0 : ['R'] ,\n",
    "    4.3 : ['D'] ,\n",
    "    4.0 : ['L'] ,\n",
    "    2.8 : ['C','U'] ,\n",
    "    2.4 : ['M'] ,\n",
    "    2.3 : ['W'] ,\n",
    "    2.2 : ['F'] ,\n",
    "    2.0 : ['G','Y'] ,\n",
    "    1.9 : ['P'] ,\n",
    "    1.5 : ['B'] ,\n",
    "    1.0 : ['V'] ,\n",
    "    0.08 : ['K'] ,\n",
    "    0.02 : ['J'] ,\n",
    "    0.01 : ['Q','X','Z'] ,\n",
    "}\n",
    "\n",
    "def freqRound(x) :\n",
    "    if x >= 12.7 :\n",
    "        return 12.7 \n",
    "    elif x >= 9.1 :\n",
    "        return 9.1\n",
    "    elif x >= 8.2 :\n",
    "        return 8.2\n",
    "    elif x >= 7.5 :\n",
    "        return 7.5\n",
    "    elif x >= 7.0 :\n",
    "        return 7.0\n",
    "    elif x >= 6.7 :\n",
    "        return 6.7\n",
    "    elif x >= 6.3 :\n",
    "        return 6.3 \n",
    "    elif x >= 6.1 :\n",
    "        return 6.1\n",
    "    elif x >= 6.0 :\n",
    "        return 6.0\n",
    "    elif x >= 4.3 :\n",
    "        return 4.3\n",
    "    elif x >= 4.0 :\n",
    "        return 4.0\n",
    "    elif x >= 2.8 :\n",
    "        return 2.8\n",
    "    elif x >= 2.4 :\n",
    "        return 2.4\n",
    "    elif x >= 2.3 :\n",
    "        return 2.3 \n",
    "    elif x >= 2.2 :\n",
    "        return 2.2\n",
    "    elif x >= 2.0 :\n",
    "        return 2.0\n",
    "    elif x >= 1.9 :\n",
    "        return 1.9\n",
    "    elif x >= 1.5 :\n",
    "        return 1.5\n",
    "    elif x >= 1.0 :\n",
    "        return 1.0\n",
    "    elif x >= 0.08 :\n",
    "        return 0.08\n",
    "    elif x >= 0.02 :\n",
    "        return 0.02\n",
    "    else :\n",
    "        return 0.01\n",
    "\n",
    "upper = string.ascii_uppercase\n",
    "for i in range(len(upper)) :\n",
    "    alphaDictCaps[i] = upper[i]\n",
    "    alphaDictCaps[upper[i]] = i\n",
    "alphaDict = {}\n",
    "chars = string.ascii_uppercase + string.ascii_lowercase\n",
    "for i in range(len(chars)) :\n",
    "    alphaDict[i] = chars[i]\n",
    "    alphaDict[chars[i]] = i"
   ]
  },
  {
   "cell_type": "code",
   "execution_count": null,
   "metadata": {},
   "outputs": [],
   "source": [
    "# Defining Custom Exception Which Might Be Raised during Execution"
   ]
  },
  {
   "cell_type": "code",
   "execution_count": null,
   "metadata": {},
   "outputs": [],
   "source": [
    "class ParameterError(BaseException) :\n",
    "    def toDict(self) :\n",
    "        return None\n",
    "\n",
    "class KeyException(BaseException) :\n",
    "    def toDict(self) :\n",
    "        return None"
   ]
  },
  {
   "cell_type": "code",
   "execution_count": null,
   "metadata": {},
   "outputs": [],
   "source": [
    "# Defining Common Utility Functions "
   ]
  },
  {
   "cell_type": "code",
   "execution_count": null,
   "metadata": {},
   "outputs": [],
   "source": [
    "def power(x, y, m) : \n",
    "    if (y == 0) : \n",
    "        return 1\n",
    "    p = power(x, y // 2, m) % m \n",
    "    p = (p * p) % m \n",
    "    print(p)\n",
    "    if(y % 2 == 0) : \n",
    "        return p  \n",
    "    else :  \n",
    "        return ((x * p) % m)\n",
    "\n",
    "def modInverse(a, m) : \n",
    "    g = gcd(a, m) \n",
    "    if (g != 1) : \n",
    "        return -1 \n",
    "    else :\n",
    "        return power(a, m - 2, m)\n",
    "    \n",
    "def bruteInverse(a,m) :\n",
    "    if gcd(a,m) != 1 :\n",
    "        return -1 \n",
    "    for i in range(26) :\n",
    "        if (i*a)%m == 1 :\n",
    "            return i\n",
    "\n",
    "def getRandomValue(*args,**kwargs) :\n",
    "    return random.randint(0,100)\n",
    "\n",
    "def getRandomKey() :\n",
    "    temp = list(upper)\n",
    "    temp.sort(key=getRandomValue)\n",
    "    return ''.join(temp)"
   ]
  },
  {
   "cell_type": "code",
   "execution_count": null,
   "metadata": {},
   "outputs": [],
   "source": [
    "# Define Substitution Cryptosystem\n",
    "\n",
    "class SubCryptosystem :\n",
    "    # Initialize with default values\n",
    "    def __init__(self) :\n",
    "        self.plainText = \"\"\n",
    "        self.cipherText = \"\"\n",
    "        self.key = \"\"\n",
    "        \n",
    "    def subEnc(self,string,key,*args,**kwargs) :\n",
    "        string = string.upper()\n",
    "        string = string.replace(\" \",\"\")\n",
    "        \n",
    "        self.plainText = string \n",
    "        self.key = key\n",
    "        \n",
    "        keyMap = {}\n",
    "        for i in range(len(key)) :\n",
    "            keyMap[upper[i]] = key[i]\n",
    "        cipherText = ''.join([keyMap[i] for i in string])\n",
    "        self.cipherText = cipherText\n",
    "        return cipherText\n",
    "\n",
    "    def subDec(self,string,key,*args,**kwargs) :\n",
    "        string = string.upper()\n",
    "        string = string.replace(\" \",\"\")\n",
    "        \n",
    "        self.cipherText = string\n",
    "        self.key = key\n",
    "        \n",
    "        keyMap = {}\n",
    "        for i in range(len(key)) :\n",
    "            keyMap[key[i]] = upper[i]\n",
    "        plainText = ''.join([keyMap[i] for i in string])\n",
    "        self.plainText = plainText\n",
    "        return plainText\n",
    "    \n",
    "    # Displays the details of previous action\n",
    "    def __repr__(self) :\n",
    "        return f\"\"\"\n",
    "        PlainText  : {self.plainText}\n",
    "        CipherText : {self.cipherText}\n",
    "        Key        : {self.key}\n",
    "        \"\"\""
   ]
  },
  {
   "cell_type": "code",
   "execution_count": null,
   "metadata": {},
   "outputs": [],
   "source": [
    "# Create A Cryptosystem\n",
    "sCrypto = SubCryptosystem()\n",
    "key = getRandomKey()"
   ]
  },
  {
   "cell_type": "code",
   "execution_count": null,
   "metadata": {},
   "outputs": [],
   "source": [
    "sCrypto.subEnc(\"HELLOEVERYONE\",key)"
   ]
  },
  {
   "cell_type": "code",
   "execution_count": null,
   "metadata": {},
   "outputs": [],
   "source": [
    "sCrypto"
   ]
  },
  {
   "cell_type": "code",
   "execution_count": null,
   "metadata": {},
   "outputs": [],
   "source": [
    "sCrypto.subDec('UQBBHQAQLTHGQ',key)"
   ]
  },
  {
   "cell_type": "code",
   "execution_count": null,
   "metadata": {},
   "outputs": [],
   "source": [
    "sCrypto"
   ]
  },
  {
   "cell_type": "code",
   "execution_count": null,
   "metadata": {},
   "outputs": [],
   "source": [
    "# Cryptanalysis"
   ]
  },
  {
   "cell_type": "code",
   "execution_count": null,
   "metadata": {},
   "outputs": [],
   "source": [
    "# Cryptanalysis of Substitution Cipher\n",
    "\n",
    "analysisSystem = SubCryptosystem()\n",
    "\n",
    "# Frequency analysis attack\n",
    "def frequencySub(string,top = -1) :\n",
    "    ans = []\n",
    "    freqList = [freqRound(10 * (string.count(i) / len(string))) for i in string]\n",
    "    # print(freqList)\n",
    "    for freq in freqList :\n",
    "        tAns = []\n",
    "        if ans == [] :\n",
    "            ans += freqDict[freq]\n",
    "            continue\n",
    "        for j in ans :\n",
    "            for k in freqDict[freq] :\n",
    "                tAns.append(j+k)\n",
    "        del(ans)\n",
    "        ans = list(set(tAns))\n",
    "    \n",
    "    matchDict = {}\n",
    "    matchList = []\n",
    "    \n",
    "    \n",
    "    for i in ans :\n",
    "        for j in dictionary :\n",
    "            if j.upper() in i :\n",
    "                try :\n",
    "                    matchDict[i] += len(j)\n",
    "                except :\n",
    "                    matchDict[i] = len(j)\n",
    "                    matchList.append(i)\n",
    "            \n",
    "    matchList.sort(reverse=True,key = lambda x : matchDict[x])\n",
    "    if top == -1 :\n",
    "        return matchList\n",
    "    else :\n",
    "        return matchList[:top]\n",
    "    return matchList\n",
    "\n",
    "# Chosen plaintext attack\n",
    "def chosenPlaintext(text) :\n",
    "    keyDict = {}\n",
    "    cipherText = analysisSystem.subEnc(text,getRandomKey())\n",
    "    for i in range(len(text)) :\n",
    "        keyDict[text[i]] = cipherText[i]\n",
    "    return keyDict"
   ]
  },
  {
   "cell_type": "code",
   "execution_count": null,
   "metadata": {},
   "outputs": [],
   "source": [
    "chosenPlaintext(\"ABCDEFGHIJKLMNOPQRSTUVWXYZ\")"
   ]
  },
  {
   "cell_type": "code",
   "execution_count": null,
   "metadata": {},
   "outputs": [],
   "source": []
  }
 ],
 "metadata": {
  "kernelspec": {
   "display_name": "SageMath 9.1",
   "language": "sage",
   "name": "sagemath"
  },
  "language_info": {
   "codemirror_mode": {
    "name": "ipython",
    "version": 3
   },
   "file_extension": ".py",
   "mimetype": "text/x-python",
   "name": "python",
   "nbconvert_exporter": "python",
   "pygments_lexer": "ipython3",
   "version": "3.7.3"
  }
 },
 "nbformat": 4,
 "nbformat_minor": 2
}
