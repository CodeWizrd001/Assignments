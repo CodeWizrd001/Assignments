{
 "cells": [
  {
   "cell_type": "code",
   "execution_count": 1,
   "metadata": {},
   "outputs": [],
   "source": [
    "# All Utility Imports Which Are Required To Functioning of the Cryptosystem"
   ]
  },
  {
   "cell_type": "code",
   "execution_count": 2,
   "metadata": {},
   "outputs": [],
   "source": [
    "import string\n",
    "import random\n",
    "import math\n",
    "from math import gcd \n",
    "import numpy as np\n",
    "from sympy import Matrix\n",
    "from collections import Counter\n",
    "from itertools import permutations , combinations"
   ]
  },
  {
   "cell_type": "code",
   "execution_count": 3,
   "metadata": {},
   "outputs": [],
   "source": [
    "# Creating the wordlist dictionary\n",
    "# Defining Other Necessary Variables"
   ]
  },
  {
   "cell_type": "code",
   "execution_count": 4,
   "metadata": {},
   "outputs": [],
   "source": [
    "alphaDictCaps = {}\n",
    "\n",
    "dictFile = open(\"../dictionary.txt\")\n",
    "dictionary = [i.strip('\\n') for i in dictFile.readlines() if (len(i.strip('\\n'))) != 1 and (len(i.strip('\\n'))) != 2]\n",
    "\n",
    "freqDict = {\n",
    "    12.7 : ['E'] ,\n",
    "    9.1 : ['T'] ,\n",
    "    8.2 : ['A'] ,\n",
    "    7.5 : ['O'] ,\n",
    "    7.0 : ['I'] ,\n",
    "    6.7 : ['N'] ,\n",
    "    6.3 : ['S'] ,\n",
    "    6.1 : ['H'] ,\n",
    "    6.0 : ['R'] ,\n",
    "    4.3 : ['D'] ,\n",
    "    4.0 : ['L'] ,\n",
    "    2.8 : ['C','U'] ,\n",
    "    2.4 : ['M'] ,\n",
    "    2.3 : ['W'] ,\n",
    "    2.2 : ['F'] ,\n",
    "    2.0 : ['G','Y'] ,\n",
    "    1.9 : ['P'] ,\n",
    "    1.5 : ['B'] ,\n",
    "    1.0 : ['V'] ,\n",
    "    0.08 : ['K'] ,\n",
    "    0.02 : ['J'] ,\n",
    "    0.01 : ['Q','X','Z'] ,\n",
    "}\n",
    "\n",
    "def freqRound(x) :\n",
    "    if x >= 12.7 :\n",
    "        return 12.7 \n",
    "    elif x >= 9.1 :\n",
    "        return 9.1\n",
    "    elif x >= 8.2 :\n",
    "        return 8.2\n",
    "    elif x >= 7.5 :\n",
    "        return 7.5\n",
    "    elif x >= 7.0 :\n",
    "        return 7.0\n",
    "    elif x >= 6.7 :\n",
    "        return 6.7\n",
    "    elif x >= 6.3 :\n",
    "        return 6.3 \n",
    "    elif x >= 6.1 :\n",
    "        return 6.1\n",
    "    elif x >= 6.0 :\n",
    "        return 6.0\n",
    "    elif x >= 4.3 :\n",
    "        return 4.3\n",
    "    elif x >= 4.0 :\n",
    "        return 4.0\n",
    "    elif x >= 2.8 :\n",
    "        return 2.8\n",
    "    elif x >= 2.4 :\n",
    "        return 2.4\n",
    "    elif x >= 2.3 :\n",
    "        return 2.3 \n",
    "    elif x >= 2.2 :\n",
    "        return 2.2\n",
    "    elif x >= 2.0 :\n",
    "        return 2.0\n",
    "    elif x >= 1.9 :\n",
    "        return 1.9\n",
    "    elif x >= 1.5 :\n",
    "        return 1.5\n",
    "    elif x >= 1.0 :\n",
    "        return 1.0\n",
    "    elif x >= 0.08 :\n",
    "        return 0.08\n",
    "    elif x >= 0.02 :\n",
    "        return 0.02\n",
    "    else :\n",
    "        return 0.01\n",
    "\n",
    "upper = string.ascii_uppercase\n",
    "for i in range(len(upper)) :\n",
    "    alphaDictCaps[i] = upper[i]\n",
    "    alphaDictCaps[upper[i]] = i\n",
    "alphaDict = {}\n",
    "chars = string.ascii_uppercase + string.ascii_lowercase\n",
    "for i in range(len(chars)) :\n",
    "    alphaDict[i] = chars[i]\n",
    "    alphaDict[chars[i]] = i"
   ]
  },
  {
   "cell_type": "code",
   "execution_count": 5,
   "metadata": {},
   "outputs": [],
   "source": [
    "# Defining Custom Exception Which Might Be Raised during Execution"
   ]
  },
  {
   "cell_type": "code",
   "execution_count": 6,
   "metadata": {},
   "outputs": [],
   "source": [
    "class ParameterError(BaseException) :\n",
    "    def toDict(self) :\n",
    "        return None\n",
    "\n",
    "class KeyException(BaseException) :\n",
    "    def toDict(self) :\n",
    "        return None"
   ]
  },
  {
   "cell_type": "code",
   "execution_count": 7,
   "metadata": {},
   "outputs": [],
   "source": [
    "# Defining Common Utility Functions "
   ]
  },
  {
   "cell_type": "code",
   "execution_count": 8,
   "metadata": {},
   "outputs": [],
   "source": [
    "def power(x, y, m) : \n",
    "    if (y == 0) : \n",
    "        return 1\n",
    "    p = power(x, y // 2, m) % m \n",
    "    p = (p * p) % m \n",
    "    print(p)\n",
    "    if(y % 2 == 0) : \n",
    "        return p  \n",
    "    else :  \n",
    "        return ((x * p) % m)\n",
    "\n",
    "def modInverse(a, m) : \n",
    "    g = gcd(a, m) \n",
    "    if (g != 1) : \n",
    "        return -1 \n",
    "    else :\n",
    "        return power(a, m - 2, m)\n",
    "    \n",
    "def bruteInverse(a,m) :\n",
    "    if gcd(a,m) != 1 :\n",
    "        return -1 \n",
    "    for i in range(26) :\n",
    "        if (i*a)%m == 1 :\n",
    "            return i\n",
    "\n",
    "def getRandomValue(*args,**kwargs) :\n",
    "    return random.randint(0,100)\n",
    "\n",
    "def getRandomKey() :\n",
    "    temp = list(upper)\n",
    "    temp.sort(key=getRandomValue)\n",
    "    return ''.join(temp)"
   ]
  },
  {
   "cell_type": "code",
   "execution_count": 22,
   "metadata": {},
   "outputs": [],
   "source": [
    "# Define Hill Cryptosystem\n",
    "\n",
    "class HillCryptosystem :\n",
    "    # Initialize with default values\n",
    "    def __init__(self) :\n",
    "        self.plainText = \"\"\n",
    "        self.cipherText = \"\"\n",
    "        self.key = \"\"\n",
    "        self.keyMatrix = []\n",
    "\n",
    "    def hillEnc(self,string,*args,**kwargs) :\n",
    "        key = kwargs.get(\"key\",\"KEYZ\")\n",
    "        m = int(len(alphaDictCaps) // 2)\n",
    "\n",
    "        # Caps Implementation\n",
    "        key = key.upper()\n",
    "        self.key = key\n",
    "        \n",
    "        string = string.upper()\n",
    "        string = string.replace(\" \",\"\")\n",
    "        self.plainText = string\n",
    "\n",
    "        y = len(string) \n",
    "        x = len(key)\n",
    "        n = int(math.sqrt(x))\n",
    "        if n**2 != x :\n",
    "            raise KeyException(\"Key not square\")\n",
    "\n",
    "        # Make KeyMatrix\n",
    "        keyList = [alphaDictCaps[i] for i in key] \n",
    "        keyMat = np.array(keyList)\n",
    "        keyMat.resize((n,n))\n",
    "        self.keyMatrix = keyMat\n",
    "\n",
    "        # Pad string if needed \n",
    "        nRows = math.ceil(y/n)\n",
    "        while len(string) < n * nRows :\n",
    "            string += \"Z\"\n",
    "\n",
    "        # Make String Matrix\n",
    "        strList = [alphaDictCaps[i] for i in string]\n",
    "        strMat = np.array(strList)\n",
    "        strMat.resize((nRows,n))\n",
    "\n",
    "        cipherMat = np.matmul(strMat,keyMat) % m\n",
    "        cipherList = cipherMat.flatten()\n",
    "\n",
    "        cipherText = ''.join([alphaDictCaps[i] for i in cipherList])\n",
    "        self.cipherText = cipherText\n",
    "        \n",
    "        return cipherText\n",
    "\n",
    "    def hillDec(self,string,*args,**kwargs) :\n",
    "        key = kwargs.get(\"key\",\"KEYZ\")\n",
    "        m = int(len(alphaDictCaps) // 2)\n",
    "\n",
    "        # Caps Implementation\n",
    "        key = key.upper()\n",
    "        self.key = key\n",
    "        \n",
    "        string = string.upper()\n",
    "        string = string.replace(\" \",\"\")\n",
    "        self.cipherText = string\n",
    "\n",
    "        y = len(string) \n",
    "        x = len(key)\n",
    "        n = int(math.sqrt(x))\n",
    "        if n**2 != x :\n",
    "            raise KeyException(\"Key not square\")\n",
    "\n",
    "        # Make KeyMatrix\n",
    "        keyList = [alphaDictCaps[i] for i in key] \n",
    "        keyMat = np.array(keyList)\n",
    "        keyMat.resize((n,n))\n",
    "        keyMatInv = np.array(Matrix(keyMat).inv_mod(m))\n",
    "        self.keyMatrix = keyMat\n",
    "\n",
    "        # Make String Matrix\n",
    "        nRows = math.ceil(y/n)\n",
    "        strList = [alphaDictCaps[i] for i in string]\n",
    "        strMat = np.array(strList)\n",
    "        strMat.resize((nRows,n))\n",
    "\n",
    "        plainMat = np.matmul(strMat,keyMatInv).astype(int) % m\n",
    "        plainList = plainMat.flatten()\n",
    "\n",
    "        plainText = ''.join([alphaDictCaps[i] for i in plainList])\n",
    "        self.plainText = plainText\n",
    "        \n",
    "        return plainText\n",
    "    \n",
    "    # Displays the details of previous action\n",
    "    def __repr__(self) :\n",
    "        return f\"\"\"\n",
    "        PlainText  : {self.plainText}\n",
    "        CipherText : {self.cipherText}\n",
    "        Key        : {self.key}\n",
    "        KeyMatrix  : {self.keyMatrix}\n",
    "        \"\"\""
   ]
  },
  {
   "cell_type": "code",
   "execution_count": 23,
   "metadata": {},
   "outputs": [],
   "source": [
    "# Create A Cryptosystem\n",
    "hCrypto = HillCryptosystem()"
   ]
  },
  {
   "cell_type": "code",
   "execution_count": 24,
   "metadata": {},
   "outputs": [
    {
     "data": {
      "text/plain": [
       "'NLATQVXNZ'"
      ]
     },
     "execution_count": 24,
     "metadata": {},
     "output_type": "execute_result"
    }
   ],
   "source": [
    "hCrypto.hillEnc(\"HELLOWORL\",key=\"HELLOWORL\")"
   ]
  },
  {
   "cell_type": "code",
   "execution_count": 25,
   "metadata": {},
   "outputs": [
    {
     "data": {
      "text/plain": [
       "\n",
       "        PlainText  : HELLOWORL\n",
       "        CipherText : NLATQVXNZ\n",
       "        Key        : HELLOWORL\n",
       "        KeyMatrix  : [[ 7  4 11]\n",
       " [11 14 22]\n",
       " [14 17 11]]\n",
       "        "
      ]
     },
     "execution_count": 25,
     "metadata": {},
     "output_type": "execute_result"
    }
   ],
   "source": [
    "hCrypto"
   ]
  },
  {
   "cell_type": "code",
   "execution_count": 26,
   "metadata": {},
   "outputs": [
    {
     "data": {
      "text/plain": [
       "'ACTIONFIGURESSS'"
      ]
     },
     "execution_count": 26,
     "metadata": {},
     "output_type": "execute_result"
    }
   ],
   "source": [
    "hCrypto.hillDec('CNTCHTZALTWOEGM',key=\"HELLOWORL\")"
   ]
  },
  {
   "cell_type": "code",
   "execution_count": 27,
   "metadata": {},
   "outputs": [
    {
     "data": {
      "text/plain": [
       "\n",
       "        PlainText  : ACTIONFIGURESSS\n",
       "        CipherText : CNTCHTZALTWOEGM\n",
       "        Key        : HELLOWORL\n",
       "        KeyMatrix  : [[ 7  4 11]\n",
       " [11 14 22]\n",
       " [14 17 11]]\n",
       "        "
      ]
     },
     "execution_count": 27,
     "metadata": {},
     "output_type": "execute_result"
    }
   ],
   "source": [
    "hCrypto"
   ]
  },
  {
   "cell_type": "code",
   "execution_count": 28,
   "metadata": {},
   "outputs": [],
   "source": [
    "# Cryptanalysis"
   ]
  },
  {
   "cell_type": "code",
   "execution_count": null,
   "metadata": {},
   "outputs": [],
   "source": []
  }
 ],
 "metadata": {
  "kernelspec": {
   "display_name": "SageMath 9.1",
   "language": "sage",
   "name": "sagemath"
  },
  "language_info": {
   "codemirror_mode": {
    "name": "ipython",
    "version": 3
   },
   "file_extension": ".py",
   "mimetype": "text/x-python",
   "name": "python",
   "nbconvert_exporter": "python",
   "pygments_lexer": "ipython3",
   "version": "3.7.3"
  }
 },
 "nbformat": 4,
 "nbformat_minor": 2
}
