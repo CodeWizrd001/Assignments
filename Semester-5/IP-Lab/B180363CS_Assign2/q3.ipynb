{
 "cells": [
  {
   "cell_type": "code",
   "execution_count": 35,
   "metadata": {},
   "outputs": [],
   "source": [
    "import numpy as np\n",
    "import cv2\n",
    "from sympy import fwht \n",
    "from math import sqrt,cos,pi"
   ]
  },
  {
   "cell_type": "code",
   "execution_count": 39,
   "metadata": {},
   "outputs": [],
   "source": [
    "image = np.array(255*np.random.rand(256,256))\n",
    "#dft_image = np.fft.fft2(image)\n",
    "#dct_image = cv2.dct(image)\n",
    "#walsh_hadaward_image = np.array(fwht(image))\n",
    "dft_image = np.zeros((256,256),dtype=complex)\n",
    "forward_dft = np.zeros((256,256),dtype=complex)\n",
    "dct_image = np.zeros((256,256),dtype=float)\n",
    "dct_basis = forward_dft = np.zeros((256,256),dtype=float)"
   ]
  },
  {
   "cell_type": "code",
   "execution_count": 37,
   "metadata": {},
   "outputs": [],
   "source": [
    "for n in range(256):\n",
    "    w = 2*np.pi*n/4\n",
    "    for k in range(256):\n",
    "        forward_dft[n][k] = np.exp(-1j*w*k)\n",
    "dft_image = np.dot(forward_dft,image)\n",
    "dft_image = np.dot(dft_image,np.transpose(forward_dft))"
   ]
  },
  {
   "cell_type": "code",
   "execution_count": 46,
   "metadata": {},
   "outputs": [],
   "source": [
    "k = 1/sqrt(2)\n",
    "N = 256\n",
    "for u in range(N):\n",
    "    w = (u*pi)/(2*N)\n",
    "    for i in range(N):\n",
    "        dct_basis[u][i] = cos(w*(2*i+1))\n",
    "for i in range(N):\n",
    "    dct_basis[0][i] = k\n",
    "dct_basis = k*dct_basis\n",
    "\n",
    "dct_image = np.dot(dct_basis,image)\n",
    "dct_image = np.dot(dct_basis,np.transpose(dct_basis))"
   ]
  },
  {
   "cell_type": "code",
   "execution_count": 51,
   "metadata": {},
   "outputs": [
    {
     "data": {
      "text/plain": [
       "array([[ 3.22876258e+04,  3.47196926e+04,  3.48336010e+04, ...,\n",
       "         3.52117410e+04,  3.48463902e+04,  3.34074624e+04],\n",
       "       [-6.19523690e+02,  3.77764211e+02,  2.46820297e+02, ...,\n",
       "         1.12135941e+03, -2.73008752e+03, -1.76384431e+00],\n",
       "       [-1.28489722e+03, -1.69606096e+02,  2.07989795e+02, ...,\n",
       "        -1.08627922e+02,  1.25625058e+03,  4.14353619e+02],\n",
       "       ...,\n",
       "       [-9.99710802e+02,  4.92927245e+02,  6.21247338e+01, ...,\n",
       "        -2.28726656e+03, -1.86663012e+02,  1.09378447e+03],\n",
       "       [-7.59268363e+02, -9.89108030e+02,  5.23187930e+02, ...,\n",
       "         1.53389896e+03, -1.00328265e+02,  3.66153591e+02],\n",
       "       [-1.47779331e+03,  1.91318824e+03,  1.44174010e+03, ...,\n",
       "         2.21267957e+02,  1.91982715e+03,  6.33330903e+02]])"
      ]
     },
     "execution_count": 51,
     "metadata": {},
     "output_type": "execute_result"
    }
   ],
   "source": [
    "def bi(a,n):\n",
    "    return format(a, '0'+str(n)+'b')\n",
    "\n",
    "def product_of_walsh(i,j,n):\n",
    "    bin1 = bi(i,n)\n",
    "    bin2 = bi(j,n)\n",
    "    sum = 1\n",
    "    for k in range(n):\n",
    "        b = int(bin1[k]) * int(bin2[n-1-k])\n",
    "        sum *= (-1)**b\n",
    "    return sum\n",
    "\n",
    "def walsh_basis(N):\n",
    "    row = []\n",
    "    bits = int(np.log2(N))\n",
    "    for i in range(N):\n",
    "        column= []\n",
    "        for j in range(N):\n",
    "            column.append(product_of_walsh(i,j,bits))\n",
    "        row.append(column)\n",
    "    return 1/N*np.array(row)\n",
    "walsh_image = np.dot(np.array(walsh_basis(256)),image)\n"
   ]
  },
  {
   "cell_type": "code",
   "execution_count": 58,
   "metadata": {},
   "outputs": [],
   "source": [
    "def product_of_hadaward(i,j,n):\n",
    "    bin1 = bi(i,n)\n",
    "    bin2 = bi(j,n)\n",
    "    sum = 1\n",
    "    for tt in range(n):\n",
    "        b = int(bin1[tt]) * int(bin2[tt])\n",
    "        sum *= (-1)**b\n",
    "    return sum\n",
    "def hadaward_basis(N):\n",
    "    rows = []\n",
    "    bits = int(np.log2(N))\n",
    "    for i in range(N):\n",
    "        columns = []\n",
    "        for j in range(N):\n",
    "            columns.append(product_of_hadaward(i,j,bits))\n",
    "        rows.append(columns)\n",
    "    return 1/N*np.array(rows)\n",
    "hadaward_image = np.dot(np.array(hadaward_basis(256)),image)\n"
   ]
  },
  {
   "cell_type": "code",
   "execution_count": 59,
   "metadata": {},
   "outputs": [
    {
     "name": "stdout",
     "output_type": "stream",
     "text": [
      "(256, 256)\n",
      "(256, 256)\n",
      "(256, 256)\n",
      "(256, 256)\n"
     ]
    }
   ],
   "source": [
    "print(dft_image.shape)\n",
    "print(dct_image.shape)\n",
    "print(walsh_image.shape)\n",
    "print(hadaward_image.shape)\n",
    "\n",
    "#we can see the size is ofcourse same\n",
    "# walsh and hadaward basis are binary values\n",
    "# dft is complex type \n",
    "#dct, walsh and hadaward are float values"
   ]
  }
 ],
 "metadata": {
  "kernelspec": {
   "display_name": "Python 3",
   "language": "python",
   "name": "python3"
  },
  "language_info": {
   "codemirror_mode": {
    "name": "ipython",
    "version": 3
   },
   "file_extension": ".py",
   "mimetype": "text/x-python",
   "name": "python",
   "nbconvert_exporter": "python",
   "pygments_lexer": "ipython3",
   "version": "3.7.4"
  }
 },
 "nbformat": 4,
 "nbformat_minor": 2
}
