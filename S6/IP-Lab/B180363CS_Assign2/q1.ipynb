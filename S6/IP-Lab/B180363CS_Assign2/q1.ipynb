{
 "cells": [
  {
   "cell_type": "code",
   "execution_count": 20,
   "metadata": {},
   "outputs": [],
   "source": [
    "import numpy as np\n",
    "from math import sqrt,cos,pi"
   ]
  },
  {
   "cell_type": "code",
   "execution_count": 38,
   "metadata": {},
   "outputs": [],
   "source": [
    "oned_basis = np.zeros((4,4),dtype=float)\n",
    "twod_basis = np.zeros((4,4),dtype=float)"
   ]
  },
  {
   "cell_type": "code",
   "execution_count": 45,
   "metadata": {},
   "outputs": [
    {
     "name": "stdout",
     "output_type": "stream",
     "text": [
      "The one dimensional DCT basis is : \n",
      "\n",
      "\n",
      "0.500 0.500 0.500 0.500\n",
      "0.653 0.271 -0.271 -0.653\n",
      "0.500 -0.500 -0.500 0.500\n",
      "0.271 -0.653 0.653 -0.271\n"
     ]
    }
   ],
   "source": [
    "# k =1 when i!=0\n",
    "# N = 4\n",
    "\n",
    "k = 1/sqrt(2)\n",
    "N = 4\n",
    "for u in range(N):\n",
    "    w = (u*pi)/(2*N)\n",
    "    for i in range(N):\n",
    "        oned_basis[u][i] = cos(w*(2*i+1))\n",
    "for i in range(N):\n",
    "    oned_basis[0][i] = k\n",
    "oned_basis = k*oned_basis\n",
    "\n",
    "print(\"The one dimensional DCT basis is : \\n\\n\")\n",
    "for i in range(4):\n",
    "    print(\"%1.3f %1.3f %1.3f %1.3f\"%(oned_basis[i][0],oned_basis[i][1],oned_basis[i][2],oned_basis[i][3]))"
   ]
  },
  {
   "cell_type": "code",
   "execution_count": 47,
   "metadata": {},
   "outputs": [
    {
     "name": "stdout",
     "output_type": "stream",
     "text": [
      "Basis of 2D DCT are: \n",
      "\n",
      "\n",
      "0.500 0.500 0.500 0.500\n",
      "0.653 0.271 -0.271 -0.653\n",
      "0.500 -0.500 -0.500 0.500\n",
      "0.271 -0.653 0.653 -0.271\n",
      "\n",
      "\n",
      "\n",
      "\n",
      "0.500 0.653 0.500 0.271\n",
      "0.500 0.271 -0.500 -0.653\n",
      "0.500 -0.271 -0.500 0.653\n",
      "0.500 -0.653 0.500 -0.271\n"
     ]
    }
   ],
   "source": [
    "# Since the 2 dimensional DCT is performing 1D dct column and row wise\n",
    "twod_basis = np.transpose(oned_basis)\n",
    "print(\"Basis of 2D DCT are: \\n\\n\")\n",
    "for i in range(4):\n",
    "    print(\"%1.3f %1.3f %1.3f %1.3f\"%(oned_basis[i][0],oned_basis[i][1],oned_basis[i][2],oned_basis[i][3]))\n",
    "print(\"\\n\\n\\n\")\n",
    "for i in range(4):\n",
    "    print(\"%1.3f %1.3f %1.3f %1.3f\"%(twod_basis[i][0],twod_basis[i][1],twod_basis[i][2],twod_basis[i][3]))"
   ]
  }
 ],
 "metadata": {
  "kernelspec": {
   "display_name": "Python 3",
   "language": "python",
   "name": "python3"
  },
  "language_info": {
   "codemirror_mode": {
    "name": "ipython",
    "version": 3
   },
   "file_extension": ".py",
   "mimetype": "text/x-python",
   "name": "python",
   "nbconvert_exporter": "python",
   "pygments_lexer": "ipython3",
   "version": "3.7.4"
  }
 },
 "nbformat": 4,
 "nbformat_minor": 2
}
