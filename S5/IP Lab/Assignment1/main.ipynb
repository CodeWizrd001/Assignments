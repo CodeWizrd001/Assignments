{
 "cells": [
  {
   "cell_type": "code",
   "execution_count": 1,
   "metadata": {},
   "outputs": [],
   "source": [
    "#importing stuff\n",
    "\n",
    "import numpy as np\n",
    "import cv2\n",
    "import glob\n",
    "import shutil\n",
    "import os"
   ]
  },
  {
   "cell_type": "code",
   "execution_count": 2,
   "metadata": {},
   "outputs": [],
   "source": [
    "#reading images to greyscale\n",
    "#writing grey scale images\n",
    "flag = 1\n",
    "Image = []\n",
    "for i in glob.glob(\"images/*.jpg\"):\n",
    "    img = cv2.imread(i,0)\n",
    "    Image.append(img)\n",
    "    cv2.imwrite('image'+str(flag)+'.jpg',img)\n",
    "    flag+=1\n"
   ]
  },
  {
   "cell_type": "code",
   "execution_count": 3,
   "metadata": {},
   "outputs": [
    {
     "name": "stdout",
     "output_type": "stream",
     "text": [
      "Max intensity of image1  : 234\n",
      "Max intensity of image2  : 255\n",
      "Max intensity of image3  : 251\n",
      "Max intensity of image4  : 242\n",
      "Max intensity of image5  : 240\n",
      "Max intensity of image6  : 254\n",
      "Max intensity of image7  : 255\n",
      "Max intensity of image8  : 247\n",
      "Max intensity of image9  : 230\n",
      "Max intensity of image10  : 255\n",
      "Max intensity of image11  : 255\n",
      "Max intensity of image12  : 224\n",
      "Max intensity of image13  : 255\n",
      "Max intensity of image14  : 255\n",
      "Max intensity of image15  : 255\n"
     ]
    }
   ],
   "source": [
    "#max intensity\n",
    "flag = 1\n",
    "for i in Image:\n",
    "    s = 'image'\n",
    "    s +=str(flag)\n",
    "    print(\"Max intensity of\",s,\" :\",np.amax(i))\n",
    "    flag+=1"
   ]
  },
  {
   "cell_type": "code",
   "execution_count": 4,
   "metadata": {},
   "outputs": [
    {
     "name": "stdout",
     "output_type": "stream",
     "text": [
      "Min intensity of image1  : 0\n",
      "Min intensity of image2  : 0\n",
      "Min intensity of image3  : 0\n",
      "Min intensity of image4  : 18\n",
      "Min intensity of image5  : 13\n",
      "Min intensity of image6  : 11\n",
      "Min intensity of image7  : 10\n",
      "Min intensity of image8  : 0\n",
      "Min intensity of image9  : 9\n",
      "Min intensity of image10  : 0\n",
      "Min intensity of image11  : 42\n",
      "Min intensity of image12  : 5\n",
      "Min intensity of image13  : 0\n",
      "Min intensity of image14  : 0\n",
      "Min intensity of image15  : 0\n"
     ]
    }
   ],
   "source": [
    "# min intensities\n",
    "flag = 1\n",
    "for i in Image:\n",
    "    s = 'image'\n",
    "    s+=str(flag)\n",
    "    print(\"Min intensity of\",s,\" :\",np.amin(i))\n",
    "    flag+=1"
   ]
  },
  {
   "cell_type": "code",
   "execution_count": 5,
   "metadata": {},
   "outputs": [
    {
     "name": "stdout",
     "output_type": "stream",
     "text": [
      "average intensity of image1  : 120.34158325195312\n",
      "average intensity of image2  : 164.774169921875\n",
      "average intensity of image3  : 45.0179443359375\n",
      "average intensity of image4  : 112.19956970214844\n",
      "average intensity of image5  : 124.03861999511719\n",
      "average intensity of image6  : 117.38748168945312\n",
      "average intensity of image7  : 166.89756774902344\n",
      "average intensity of image8  : 107.76467895507812\n",
      "average intensity of image9  : 98.64015197753906\n",
      "average intensity of image10  : 135.60377502441406\n",
      "average intensity of image11  : 155.447021484375\n",
      "average intensity of image12  : 129.61134338378906\n",
      "average intensity of image13  : 232.2299346923828\n",
      "average intensity of image14  : 104.96859741210938\n",
      "average intensity of image15  : 129.7251739501953\n"
     ]
    }
   ],
   "source": [
    "#average intensities\n",
    "flag = 1\n",
    "for i in Image:\n",
    "    s = 'image'\n",
    "    s+=str(flag)\n",
    "    print(\"average intensity of\",s,\" :\",np.mean(i))\n",
    "    flag+=1"
   ]
  },
  {
   "cell_type": "code",
   "execution_count": null,
   "metadata": {},
   "outputs": [],
   "source": []
  },
  {
   "cell_type": "code",
   "execution_count": null,
   "metadata": {},
   "outputs": [],
   "source": []
  }
 ],
 "metadata": {
  "kernelspec": {
   "display_name": "Python 3",
   "language": "python",
   "name": "python3"
  },
  "language_info": {
   "codemirror_mode": {
    "name": "ipython",
    "version": 3
   },
   "file_extension": ".py",
   "mimetype": "text/x-python",
   "name": "python",
   "nbconvert_exporter": "python",
   "pygments_lexer": "ipython3",
   "version": "3.7.4"
  }
 },
 "nbformat": 4,
 "nbformat_minor": 2
}
