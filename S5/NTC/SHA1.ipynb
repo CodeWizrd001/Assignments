{
 "cells": [
  {
   "cell_type": "markdown",
   "metadata": {},
   "source": [
    "# SHA0 / SHA1\n",
    "** Implementation of the RFC-3174 US Secure Hash Algorithm 0 and 1 **\n",
    "\n",
    "*... in Python*\n",
    "\n",
    "[SHA1](https://www.ietf.org/rfc/rfc3174.txt)"
   ]
  },
  {
   "cell_type": "markdown",
   "metadata": {},
   "source": [
    "### Define and Select Test Cases"
   ]
  },
  {
   "cell_type": "code",
   "execution_count": 1,
   "metadata": {},
   "outputs": [],
   "source": [
    "COMPUTE_SHA0 = False # Set to False to compute SHA1\n",
    "algo_name = \"SHA-0\" if (COMPUTE_SHA0) else \"SHA-1\""
   ]
  },
  {
   "cell_type": "code",
   "execution_count": 2,
   "metadata": {},
   "outputs": [],
   "source": [
    "# [PlainText, SHA0Digest, SHA1Digest]\n",
    "test_case=[[\"\",\"da39a3ee5e6b4b0d3255bfef95601890afd80709\",\"???\"],\\\n",
    "           [\"a\",\"34aa973cd4c4daa4f61eeb2bdbad27316534016f\",\"???\"],\\\n",
    "           [\"abc\",\"a9993e364706816aba3e25717850c26c9cd0d89d\",\"164b8a914cd2a5e74c4f7ff082c4d97f1edf880\"],\\\n",
    "           [\"abcdbcdecdefdefgefghfghighijhijkijkljklmklmnlmnomnopnopq\",\"84983e441c3bd26ebaae4aa1f95129e5e54670f1\",\"d2516ee1acfa5baf33dfc1c471e438449ef134c8\"],\\\n",
    "           [\"abcdefghbcdefghicdefghijdefghijkefghijklfghijklmghijklmnhijklmnoijklmnopjklmnopqklmnopqrlmnopqrsmnopqrstnopqrstu\",\\\n",
    "            \"a49b2446a02c645bf419f995b67091253a04a259\",\"???\"]]\n",
    "use_test_case = 3\n",
    "\n",
    "# Assign test case to variables.\n",
    "message = test_case[use_test_case][0]\n",
    "ref_idx = 2 if(COMPUTE_SHA0) else 1\n",
    "ref_hash = test_case[use_test_case][ref_idx]"
   ]
  },
  {
   "cell_type": "markdown",
   "metadata": {},
   "source": [
    "### Step 1 - Append Padding Bits\n",
    "\n",
    "The message to be hashed is padded to have a length equal to 8 bytes {64 bits} less than being a multiple of 64 bytes {512 bits}. The padding step is performed even if the message length is already of desired length. The padding bit string used is `1` followed by `0` - `100...000`\n",
    "\n",
    "The padded message lengths is eventually 56 bytes {448 bits}, 120 bytes {960 bits}, 184 bytes {1472 bits}, 248 bytes {1984 bits} and so on.\n",
    "\n",
    "The padding method is similar to MD4."
   ]
  },
  {
   "cell_type": "code",
   "execution_count": 3,
   "metadata": {},
   "outputs": [
    {
     "name": "stdout",
     "output_type": "stream",
     "text": [
      "Message Length : 56 bytes {448 bits}\n"
     ]
    }
   ],
   "source": [
    "message_len = len(message)\n",
    "message_len_bits = message_len * 8\n",
    "print(\"Message Length : \" + str(message_len) + \" bytes {\" + str(message_len_bits) + \" bits}\")"
   ]
  },
  {
   "cell_type": "code",
   "execution_count": 4,
   "metadata": {},
   "outputs": [],
   "source": [
    "# Encode string to bytes\n",
    "message_b = message.encode('utf-8')"
   ]
  },
  {
   "cell_type": "code",
   "execution_count": 5,
   "metadata": {},
   "outputs": [
    {
     "name": "stdout",
     "output_type": "stream",
     "text": [
      "Padding Length : 64 bytes {512 bits}\n"
     ]
    }
   ],
   "source": [
    "# Calculate padding length\n",
    "padding_len = 56 - message_len % 64\n",
    "padding_len = 64 if (padding_len == 0) else padding_len\n",
    "print(\"Padding Length : \" + str(padding_len) + \" bytes {\" + str(padding_len * 8) + \" bits}\")"
   ]
  },
  {
   "cell_type": "code",
   "execution_count": 6,
   "metadata": {},
   "outputs": [
    {
     "name": "stdout",
     "output_type": "stream",
     "text": [
      "Padded Message :\n",
      "b'abcdbcdecdefdefgefghfghighijhijkijkljklmklmnlmnomnopnopq\\x80\\x00\\x00\\x00\\x00\\x00\\x00\\x00\\x00\\x00\\x00\\x00\\x00\\x00\\x00\\x00\\x00\\x00\\x00\\x00\\x00\\x00\\x00\\x00\\x00\\x00\\x00\\x00\\x00\\x00\\x00\\x00\\x00\\x00\\x00\\x00\\x00\\x00\\x00\\x00\\x00\\x00\\x00\\x00\\x00\\x00\\x00\\x00\\x00\\x00\\x00\\x00\\x00\\x00\\x00\\x00\\x00\\x00\\x00\\x00\\x00\\x00\\x00\\x00'\n",
      "\n",
      "length(paddedMessage)      : 120 bytes {960 bits}\n",
      "length(paddedMessage) % 64 : 56 bytes {448 bits}\n"
     ]
    }
   ],
   "source": [
    "# Display Padded Message, length and calculation.\n",
    "message_mod448 = message_b + b'\\x80' + b'\\x00' * (padding_len-1)\n",
    "print(\"Padded Message :\\n\"+str(message_mod448))\n",
    "print(\"\\nlength(paddedMessage)      : \"+str(len(message_mod448))+\" bytes {\"+str(len(message_mod448*8))+\" bits}\\nlength(paddedMessage) % 64 : \"+str(len(message_mod448)%64)+\" bytes {\"+str((len(message_mod448)%64) * 8)+\" bits}\" )"
   ]
  },
  {
   "cell_type": "markdown",
   "metadata": {},
   "source": [
    "### Step 2 - Append Length\n",
    "\n",
    "The bit length of the original message is appended to the padded message created in the previous step. This bit length is appended as an 8 byte {64 bits} little endian integer.\n",
    "\n",
    "A message of length 14 bytes (_try test case # 3_), would have a bit length of 112 bits and the appended 64 bit little endian bit length would be `0x7000000000000000` (as hex) or `b'p\\x00\\x00\\x00\\x00\\x00\\x00\\x00'` (as a byte string).\n",
    "\n",
    "If the message length is $> 2^{64}$ bits, only the lower 64 bits are used for padding."
   ]
  },
  {
   "cell_type": "code",
   "execution_count": 7,
   "metadata": {},
   "outputs": [
    {
     "name": "stdout",
     "output_type": "stream",
     "text": [
      "LSB64(len(unPaddedMessage)) : b'\\x00\\x00\\x00\\x00\\x00\\x00\\x01\\xc0'\n",
      "length( paddedMessage | LSB64(len(unPaddedMessage)) ) : 128 bytes {1024 bits}\n",
      "\n",
      "Padded Message | LSB64(len(unPaddedMessage)) :\n",
      "b'abcdbcdecdefdefgefghfghighijhijkijkljklmklmnlmnomnopnopq\\x80\\x00\\x00\\x00\\x00\\x00\\x00\\x00\\x00\\x00\\x00\\x00\\x00\\x00\\x00\\x00\\x00\\x00\\x00\\x00\\x00\\x00\\x00\\x00\\x00\\x00\\x00\\x00\\x00\\x00\\x00\\x00\\x00\\x00\\x00\\x00\\x00\\x00\\x00\\x00\\x00\\x00\\x00\\x00\\x00\\x00\\x00\\x00\\x00\\x00\\x00\\x00\\x00\\x00\\x00\\x00\\x00\\x00\\x00\\x00\\x00\\x00\\x00\\x00\\x00\\x00\\x00\\x00\\x00\\x00\\x01\\xc0'\n"
     ]
    }
   ],
   "source": [
    "# Append Length\n",
    "processed_message=message_mod448+(message_len_bits%2**64).to_bytes(8,byteorder='big')\n",
    "print(\"LSB64(len(unPaddedMessage)) : \"+str((message_len_bits%2**64).to_bytes(8,byteorder='big')))\n",
    "print(\"length( paddedMessage | LSB64(len(unPaddedMessage)) ) : \"+str(len(processed_message))+\" bytes {\"+str(len(processed_message)*8)+\" bits}\")\n",
    "print(\"\\nPadded Message | LSB64(len(unPaddedMessage)) :\\n\"+str(processed_message))"
   ]
  },
  {
   "cell_type": "markdown",
   "metadata": {},
   "source": [
    "### Step 3 - Initialize Context\n",
    "\n",
    "These numbers are defined in the standards - RFC-3174, FIPS 180-1 for SHA1 and FIPS-180 for SHA0"
   ]
  },
  {
   "cell_type": "code",
   "execution_count": 8,
   "metadata": {},
   "outputs": [],
   "source": [
    "h0 = 0x67452301\n",
    "h1 = 0xEFCDAB89\n",
    "h2 = 0x98BADCFE\n",
    "h3 = 0x10325476\n",
    "h4 = 0xC3D2E1F0"
   ]
  },
  {
   "cell_type": "markdown",
   "metadata": {},
   "source": [
    "### Define various constants\n",
    "These constants are also defined in the standards documents."
   ]
  },
  {
   "cell_type": "code",
   "execution_count": 9,
   "metadata": {},
   "outputs": [],
   "source": [
    "# Constant Table\n",
    "K = [0x5A827999] * 20 + [0x6ED9EBA1] * 20 + [0x8F1BBCDC] * 20 + [0xCA62C1D6] * 20\n",
    "\n",
    "# Shift Table\n",
    "R1_s = [7, 12, 17, 22] * 4\n",
    "R2_s = [5, 9, 14, 20] * 4\n",
    "R3_s = [4, 11, 16, 23] * 4\n",
    "R4_s = [6, 10, 15, 21] * 4\n",
    "\n",
    "# K table (to use a sub-string of the message)\n",
    "R1_k = [0, 1, 2, 3, 4, 5, 6, 7, 8, 9, 10, 11, 12, 13, 14, 15]\n",
    "R2_k = [1, 6, 11, 0, 5, 10, 15, 4, 9, 14, 3, 8, 13, 2, 7, 12]\n",
    "R3_k = [5, 8, 11, 14, 1, 4, 7, 10, 13, 0, 3, 6, 9, 12, 15, 2]\n",
    "R4_k = [0, 7, 14, 5, 12, 3, 10, 1, 8, 15, 6, 13, 4, 11, 2, 9]"
   ]
  },
  {
   "cell_type": "code",
   "execution_count": 10,
   "metadata": {},
   "outputs": [],
   "source": [
    "# Auxiliary functions\n",
    "\n",
    "\n",
    "# Function F that take in 3x 32bit words and an index integer and return 1x 32bit word.\n",
    "# The operations differs across various rounds.\n",
    "def F(t, B, C, D):\n",
    "    calc = 0\n",
    "    if (0 <= t & t <= 19):\n",
    "        calc = (B & C) | (D & ~B)\n",
    "    elif (20 <= t & t <= 39):\n",
    "        calc = B ^ C ^ D\n",
    "    elif (40 <= t & t <= 59):\n",
    "        calc = (B & C) | (B & D) | (C & D)\n",
    "    elif (60 <= t & t <= 79):\n",
    "        calc = B ^ C ^ D\n",
    "    else:\n",
    "        raise ValueError('t is not in the range 0<=j<=79 !')\n",
    "    return calc\n",
    "\n",
    "\n",
    "# Rotate Left - Ensure output is 32bit (& 0xFFFFFFFF)\n",
    "def rotl(x, s):\n",
    "    return ((x << s) | x >> (32 - s)) & 0xFFFFFFFF"
   ]
  },
  {
   "cell_type": "code",
   "execution_count": 11,
   "metadata": {},
   "outputs": [],
   "source": [
    "# Split message to a word list.\n",
    "def words(M):\n",
    "    word_list = [0] * 80\n",
    "    for i in range(0, 16):\n",
    "        word_list[i] = int.from_bytes(M[i * 4:i * 4 + 4], byteorder='big')\n",
    "    return word_list"
   ]
  },
  {
   "cell_type": "code",
   "execution_count": 12,
   "metadata": {},
   "outputs": [],
   "source": [
    "# Display SHA Context - To see what is happening...\n",
    "def disp_context(h0, h1, h2, h3, h4):\n",
    "    print(\"h0...h4 : {:08x} {:08x} {:08x} {:08x} {:08x}\".format(h0, h1, h2, h3, h4))\n",
    "    return None"
   ]
  },
  {
   "cell_type": "markdown",
   "metadata": {},
   "source": [
    "### Step 4 - Process Message in 16-Word Blocks"
   ]
  },
  {
   "cell_type": "code",
   "execution_count": 13,
   "metadata": {
    "scrolled": true
   },
   "outputs": [
    {
     "name": "stdout",
     "output_type": "stream",
     "text": [
      "Initial Context:\n",
      "h0...h4 : 67452301 efcdab89 98badcfe 10325476 c3d2e1f0\n",
      "\n",
      "PROCESSING bytes 0...64\n",
      "Message chunk being processed :\n",
      "b'abcdbcdecdefdefgefghfghighijhijkijkljklmklmnlmnomnopnopq\\x80\\x00\\x00\\x00\\x00\\x00\\x00\\x00'\n",
      "h0...h4 : f4286818 c37b27ae 0408f581 84677148 4a566572\n",
      "\n",
      "PROCESSING bytes 64...128\n",
      "Message chunk being processed :\n",
      "b'\\x00\\x00\\x00\\x00\\x00\\x00\\x00\\x00\\x00\\x00\\x00\\x00\\x00\\x00\\x00\\x00\\x00\\x00\\x00\\x00\\x00\\x00\\x00\\x00\\x00\\x00\\x00\\x00\\x00\\x00\\x00\\x00\\x00\\x00\\x00\\x00\\x00\\x00\\x00\\x00\\x00\\x00\\x00\\x00\\x00\\x00\\x00\\x00\\x00\\x00\\x00\\x00\\x00\\x00\\x00\\x00\\x00\\x00\\x00\\x00\\x00\\x00\\x01\\xc0'\n",
      "h0...h4 : 84983e44 1c3bd26e baae4aa1 f95129e5 e54670f1\n",
      "\n"
     ]
    }
   ],
   "source": [
    "# Loop though the various 512 bit blocks of a long message.\n",
    "print(\"Initial Context:\")\n",
    "disp_context(h0, h1, h2, h3, h4)\n",
    "print(\"\")\n",
    "\n",
    "# For each 512 bit (64 byte, 16 32bit words)\n",
    "for i in range(0, len(processed_message), 64):\n",
    "    M = processed_message[i:i + 64]\n",
    "    # Split into 16x 32bit words. The list includes blanks (16-79) for scheduled messages.\n",
    "    W = words(M)\n",
    "    print(\"PROCESSING bytes \" + str(i) + \"...\" + str(i + 64))\n",
    "    print(\"Message chunk being processed :\\n\" + str(M))\n",
    "    \n",
    "    # Schedule Messages - Create message words 17..79 using word 0..16\n",
    "    for t in range(16, 80):\n",
    "        if COMPUTE_SHA0:\n",
    "            W[t] = W[t - 3] ^ W[t - 8] ^ W[t - 14] ^ W[t - 16]\n",
    "        else:\n",
    "            W[t] = rotl(W[t - 3] ^ W[t - 8] ^ W[t - 14] ^ W[t - 16], 1)\n",
    "            \n",
    "    # Assign context to Round variable.\n",
    "    [A, B, C, D, E] = [h0, h1, h2, h3, h4]\n",
    "\n",
    "    # Process scheduled message. Word 0..79\n",
    "    for t in range(0, 80):\n",
    "        T = (rotl(A, 5) + F(t, B, C, D) + E + W[t] + K[t]) & 0xFFFFFFFF\n",
    "        [E, D, C, B, A] = [D, C, rotl(B, 30), A, T]\n",
    "    \n",
    "    # Update SHA Context Buffer after processing the 512 bit message part.\n",
    "    [h0, h1, h2, h3, h4] = [(h0 + A) & 0xFFFFFFFF, (h1 + B) & 0xFFFFFFFF, (h2 + C) & 0xFFFFFFFF, (h3 + D) & 0xFFFFFFFF, (h4 + E) & 0xFFFFFFFF]\n",
    "\n",
    "    # Display Updated SHA Context Buffers after processing the 512 bit message part.\n",
    "    disp_context(h0, h1, h2, h3, h4)\n",
    "    print()"
   ]
  },
  {
   "cell_type": "code",
   "execution_count": 14,
   "metadata": {},
   "outputs": [
    {
     "name": "stdout",
     "output_type": "stream",
     "text": [
      "SHA-1 hash\n",
      "OUTPUT      : 0x84983e441c3bd26ebaae4aa1f95129e5e54670f1\n",
      "REF. Hash   : 0x84983e441c3bd26ebaae4aa1f95129e5e54670f1\n"
     ]
    }
   ],
   "source": [
    "# Compute output hash from the SHA context buffers.\n",
    "# The final SHA hash is the SHA Context buffers concatinated as -\n",
    "# h0 | h1 | h2 | h3 | h4\n",
    "output_int = h0 << 128 | h1 << 96 | h2 << 64 | h3 << 32 | h4\n",
    "\n",
    "# The SHAx hash starts with the lowest order byte of A ... highest order byte of D\n",
    "print(algo_name + \" hash\")\n",
    "print(\"OUTPUT      : \" + hex(output_int))\n",
    "print(\"REF. Hash   : 0x\" + ref_hash)"
   ]
  },
  {
   "cell_type": "markdown",
   "metadata": {},
   "source": [
    "## Compare with Python's `hashlib`"
   ]
  },
  {
   "cell_type": "code",
   "execution_count": 15,
   "metadata": {},
   "outputs": [],
   "source": [
    "import hashlib"
   ]
  },
  {
   "cell_type": "code",
   "execution_count": 16,
   "metadata": {},
   "outputs": [
    {
     "name": "stdout",
     "output_type": "stream",
     "text": [
      "Hashlib SHA1 : 0x84983e441c3bd26ebaae4aa1f95129e5e54670f1\n"
     ]
    }
   ],
   "source": [
    "H = hashlib.new('SHA1')\n",
    "H.update(message_b)\n",
    "sha1hash = H.hexdigest()\n",
    "print(\"Hashlib SHA1 : 0x\" + sha1hash)"
   ]
  },
  {
   "cell_type": "markdown",
   "metadata": {},
   "source": [
    "### References\n",
    "\n",
    "[SHA1](https://www.ietf.org/rfc/rfc3174.txt)\n",
    "2. [Wikipedia](https://en.wikipedia.org/wiki/SHA1)\n",
    "3. [Rosetta Code](https://rosettacode.org/wiki/SHA1/Implementation#Python)\n",
    "4. [Merkle Damgård construction](https://en.wikipedia.org/wiki/Merkle%E2%80%93Damg%C3%A5rd_construction)"
   ]
  },
  {
   "cell_type": "code",
   "execution_count": 17,
   "metadata": {},
   "outputs": [],
   "source": [
    "import numpy as np\n",
    "from math import gcd "
   ]
  },
  {
   "cell_type": "code",
   "execution_count": 18,
   "metadata": {},
   "outputs": [
    {
     "name": "stdout",
     "output_type": "stream",
     "text": [
      "[543. 407. 223. 703. 259. 781. 409.]\n"
     ]
    }
   ],
   "source": [
    "b = np.array([7,11,19,39,79,157,313])\n",
    "n = 900\n",
    "r = 37\n",
    "pT = [4,2,5,3,1,7,6]\n",
    "t = r * b % n\n",
    "a = np.zeros(b.shape)\n",
    "\n",
    "for i in range(len(pT)) :\n",
    "    a[i] = t[pT[i]-1]\n",
    "    \n",
    "print(a)\n",
    "\n",
    "def bit7(x) :\n",
    "    t = bin(ord(x))[2:]\n",
    "    if len(t) == 8 :\n",
    "        t = t[1:]\n",
    "    while len(t) < 7 :\n",
    "        t = '0' + t\n",
    "    return t\n",
    "\n",
    "def encrypt(x) :\n",
    "    x = bit7(x)\n",
    "    x = [int(i) for i in x]\n",
    "    print(x)\n",
    "    y = [a[i] * x[i] for i in range(len(x))]\n",
    "    print(y)\n",
    "    return sum(y)"
   ]
  },
  {
   "cell_type": "code",
   "execution_count": 19,
   "metadata": {},
   "outputs": [
    {
     "name": "stdout",
     "output_type": "stream",
     "text": [
      "[1, 1, 0, 0, 0, 1, 0]\n",
      "[543.0, 407.0, 0.0, 0.0, 0.0, 781.0, 0.0]\n"
     ]
    },
    {
     "data": {
      "text/plain": [
       "1731.0"
      ]
     },
     "execution_count": 19,
     "metadata": {},
     "output_type": "execute_result"
    }
   ],
   "source": [
    "encrypt('b')"
   ]
  },
  {
   "cell_type": "code",
   "execution_count": 23,
   "metadata": {},
   "outputs": [],
   "source": [
    "def bruteInverse(a,m) :\n",
    "    if gcd(a,m) != 1 :\n",
    "        return -1 \n",
    "    for i in range(m) :\n",
    "        if (i*a)%m == 1 :\n",
    "            return i"
   ]
  },
  {
   "cell_type": "code",
   "execution_count": 24,
   "metadata": {},
   "outputs": [
    {
     "name": "stdout",
     "output_type": "stream",
     "text": [
      "{4: 1, 2: 2, 5: 3, 3: 4, 1: 5, 7: 6, 6: 7}\n"
     ]
    }
   ],
   "source": [
    "s = 1731\n",
    "n = 900\n",
    "r = 37\n",
    "pT = [4,2,5,3,1,7,6]\n",
    "pT_ = {}\n",
    "for i in range(len(pT)) :\n",
    "    pT_[pT[i]] = i + 1\n",
    "r_ = bruteInverse(r,n)\n",
    "s_ = s * r_ % n\n",
    "print(pT_)\n",
    "bRev = list(b)\n",
    "bRev.reverse()\n",
    "\n",
    "def decrypt(s_):\n",
    "    x_ = np.zeros(b.shape)\n",
    "    for i in range(len(bRev)) :\n",
    "        if bRev[i] <= s_ :\n",
    "            s_ -= bRev[i]\n",
    "            x_[i] = 1\n",
    "        else :\n",
    "            x_[i] = 0\n",
    "    temp = np.zeros(b.shape)\n",
    "    print(x_)\n",
    "    for i in range(len(pT)) :\n",
    "        temp[i] = x_[pT_[i+1]-1]\n",
    "    \n",
    "    print(temp)\n",
    "    return chr(int('0b'+''.join([str(int(i)) for i in temp]),2))"
   ]
  },
  {
   "cell_type": "code",
   "execution_count": 25,
   "metadata": {},
   "outputs": [
    {
     "name": "stdout",
     "output_type": "stream",
     "text": [
      "[1. 0. 0. 1. 0. 1. 0.]\n",
      "[0. 0. 1. 1. 0. 0. 1.]\n"
     ]
    },
    {
     "data": {
      "text/plain": [
       "'\\x19'"
      ]
     },
     "execution_count": 25,
     "metadata": {},
     "output_type": "execute_result"
    }
   ],
   "source": [
    "decrypt(s_)"
   ]
  },
  {
   "cell_type": "code",
   "execution_count": 26,
   "metadata": {},
   "outputs": [
    {
     "data": {
      "text/plain": [
       "73"
      ]
     },
     "execution_count": 26,
     "metadata": {},
     "output_type": "execute_result"
    }
   ],
   "source": [
    "r_"
   ]
  },
  {
   "cell_type": "code",
   "execution_count": 27,
   "metadata": {},
   "outputs": [
    {
     "data": {
      "text/plain": [
       "'1100010'"
      ]
     },
     "execution_count": 27,
     "metadata": {},
     "output_type": "execute_result"
    }
   ],
   "source": [
    "bit7('b')"
   ]
  },
  {
   "cell_type": "code",
   "execution_count": 28,
   "metadata": {},
   "outputs": [
    {
     "data": {
      "text/plain": [
       "[4, 2, 5, 3, 1, 7, 6]"
      ]
     },
     "execution_count": 28,
     "metadata": {},
     "output_type": "execute_result"
    }
   ],
   "source": [
    "pT"
   ]
  },
  {
   "cell_type": "code",
   "execution_count": null,
   "metadata": {},
   "outputs": [],
   "source": []
  }
 ],
 "metadata": {
  "kernelspec": {
   "display_name": "Python 3",
   "language": "python",
   "name": "python3"
  },
  "language_info": {
   "codemirror_mode": {
    "name": "ipython",
    "version": 3
   },
   "file_extension": ".py",
   "mimetype": "text/x-python",
   "name": "python",
   "nbconvert_exporter": "python",
   "pygments_lexer": "ipython3",
   "version": "3.7.3"
  },
  "varInspector": {
   "cols": {
    "lenName": 16,
    "lenType": 16,
    "lenVar": 40
   },
   "kernels_config": {
    "python": {
     "delete_cmd_postfix": "",
     "delete_cmd_prefix": "del ",
     "library": "var_list.py",
     "varRefreshCmd": "print(var_dic_list())"
    },
    "r": {
     "delete_cmd_postfix": ") ",
     "delete_cmd_prefix": "rm(",
     "library": "var_list.r",
     "varRefreshCmd": "cat(var_dic_list()) "
    }
   },
   "types_to_exclude": [
    "module",
    "function",
    "builtin_function_or_method",
    "instance",
    "_Feature"
   ],
   "window_display": false
  }
 },
 "nbformat": 4,
 "nbformat_minor": 2
}
