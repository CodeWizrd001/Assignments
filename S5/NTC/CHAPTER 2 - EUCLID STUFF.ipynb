{
 "cells": [
  {
   "cell_type": "code",
   "execution_count": 12,
   "metadata": {},
   "outputs": [],
   "source": [
    "#A = Q*N + R\n",
    "\n",
    "# R NEEDS TO BE POSITIVE\n",
    "# Q CAN BE ANYTHING \n",
    "\n",
    "import math"
   ]
  },
  {
   "cell_type": "code",
   "execution_count": 1,
   "metadata": {},
   "outputs": [],
   "source": [
    "#gcd(a, b) = gcd(b, r)\n",
    "\n",
    "def euclidGCD(a, b):\n",
    "    r1 = a\n",
    "    r2 = b\n",
    "    r = r1%r2\n",
    "   \n",
    "    while(r2 > 0):\n",
    "        q = int(r1/r2)\n",
    "        r = r1 - (q*r2)\n",
    "        print(\"r1 is\", r1, \"r2 is \", r2, \"r is \",r)\n",
    "        r1 = r2\n",
    "        r2 = r\n",
    "        \n",
    "        \n",
    "    \n",
    "    print(\"gcd is \", r1)\n",
    "    "
   ]
  },
  {
   "cell_type": "code",
   "execution_count": 3,
   "metadata": {},
   "outputs": [
    {
     "name": "stdout",
     "output_type": "stream",
     "text": [
      "r1 is 2740 r2 is  1760 r is  980\n",
      "r1 is 1760 r2 is  980 r is  780\n",
      "r1 is 980 r2 is  780 r is  200\n",
      "r1 is 780 r2 is  200 r is  180\n",
      "r1 is 200 r2 is  180 r is  20\n",
      "r1 is 180 r2 is  20 r is  0\n",
      "gcd is  20\n"
     ]
    }
   ],
   "source": [
    "euclidGCD(2740, 1760)"
   ]
  },
  {
   "cell_type": "code",
   "execution_count": 9,
   "metadata": {},
   "outputs": [],
   "source": [
    "#EXTENDED GCD:\n",
    "# S*A + T*B = GCD(A, B)\n",
    "def extendedEuclideanalgo(a, b):\n",
    "    r1, r2 = a, b\n",
    "    s1, s2 = 1, 0\n",
    "    t1, t2 = 0, 1\n",
    "    while(r2 > 0):\n",
    "        q = int(r1/r2)\n",
    "        r = r1 - (q*r2)\n",
    "        print(\"r1 is\", r1, \"r2 is \", r2, \"r is \",r)\n",
    "        r1 = r2\n",
    "        r2 = r\n",
    "        s = s1 - (q*s2)\n",
    "        print(\"s1 is\", s1, \"s2 is \", s2)\n",
    "        s1 = s2\n",
    "        s2 = s\n",
    "        t = t1 - (q*t2)\n",
    "        print(\"t1 is\", t1, \"t2 is \", t2)\n",
    "        t1 = t2\n",
    "        t2 = t\n",
    "        print()\n",
    "    print(\"gcd is \", r1, \"s is \", s1, \"t is \", t2)\n",
    "    return r1,s1,t2\n",
    "    \n"
   ]
  },
  {
   "cell_type": "code",
   "execution_count": 10,
   "metadata": {},
   "outputs": [
    {
     "name": "stdout",
     "output_type": "stream",
     "text": [
      "r1 is 17 r2 is  36 r is  17\n",
      "s1 is 1 s2 is  0\n",
      "t1 is 0 t2 is  1\n",
      "\n",
      "r1 is 36 r2 is  17 r is  2\n",
      "s1 is 0 s2 is  1\n",
      "t1 is 1 t2 is  0\n",
      "\n",
      "r1 is 17 r2 is  2 r is  1\n",
      "s1 is 1 s2 is  -2\n",
      "t1 is 0 t2 is  1\n",
      "\n",
      "r1 is 2 r2 is  1 r is  0\n",
      "s1 is -2 s2 is  17\n",
      "t1 is 1 t2 is  -8\n",
      "\n",
      "gcd is  1 s is  17 t is  17\n"
     ]
    },
    {
     "data": {
      "text/plain": [
       "(1, 17, 17)"
      ]
     },
     "execution_count": 10,
     "metadata": {},
     "output_type": "execute_result"
    }
   ],
   "source": [
    "extendedEuclideanalgo(17,36)"
   ]
  },
  {
   "cell_type": "code",
   "execution_count": 7,
   "metadata": {},
   "outputs": [
    {
     "data": {
      "text/plain": [
       "8"
      ]
     },
     "execution_count": 7,
     "metadata": {},
     "output_type": "execute_result"
    }
   ],
   "source": [
    "(36-8 * 17 )%36"
   ]
  },
  {
   "cell_type": "code",
   "execution_count": 6,
   "metadata": {},
   "outputs": [],
   "source": [
    "#LINEAR DIOPHANTINE EQUATION:\n",
    "def sol(a, b, c, gen, k):\n",
    "    d, s, t = extendedEuclideanalgo(a, b)\n",
    "    if(c%d == 0):\n",
    "        print(\"solution exists!!!\")\n",
    "        x0 = s*c/d\n",
    "        y0 = t*c/d\n",
    "        if(gen == 1):\n",
    "            gensol(x0, y0, a, b, d, k)\n",
    "        return x0, y0\n",
    "    else:\n",
    "        print(\"No solution Zzzzz\")\n",
    "        return -10000, -10000\n",
    "def gensol(x0, y0, a, b, d, k):\n",
    "    for i in range(k):\n",
    "        x = x0 + i*(b/d)\n",
    "        y = y0 - i*(a/d)\n",
    "        print(\"x is \", x, \"y is \",y)\n"
   ]
  },
  {
   "cell_type": "code",
   "execution_count": 7,
   "metadata": {},
   "outputs": [
    {
     "name": "stdout",
     "output_type": "stream",
     "text": [
      "r1 is 21 r2 is  14 r is  7\n",
      "s1 is 1 s2 is  0\n",
      "t1 is 0 t2 is  1\n",
      "\n",
      "r1 is 14 r2 is  7 r is  0\n",
      "s1 is 0 s2 is  1\n",
      "t1 is 1 t2 is  -1\n",
      "\n",
      "gcd is  7 s is  1 t is  -1\n",
      "solution exists!!!\n",
      "x is  5.0 y is  -5.0\n",
      "x is  7.0 y is  -8.0\n",
      "x is  9.0 y is  -11.0\n",
      "x is  11.0 y is  -14.0\n",
      "x is  13.0 y is  -17.0\n",
      "x is  15.0 y is  -20.0\n",
      "x is  17.0 y is  -23.0\n",
      "x is  19.0 y is  -26.0\n",
      "x is  21.0 y is  -29.0\n",
      "x is  23.0 y is  -32.0\n",
      "r1 is 20 r2 is  5 r is  0\n",
      "s1 is 1 s2 is  0\n",
      "t1 is 0 t2 is  1\n",
      "\n",
      "gcd is  5 s is  0 t is  1\n",
      "solution exists!!!\n",
      "x is  0.0 y is  20.0\n",
      "x is  1.0 y is  16.0\n",
      "x is  2.0 y is  12.0\n",
      "x is  3.0 y is  8.0\n",
      "x is  4.0 y is  4.0\n"
     ]
    },
    {
     "data": {
      "text/plain": [
       "(0.0, 20.0)"
      ]
     },
     "execution_count": 7,
     "metadata": {},
     "output_type": "execute_result"
    }
   ],
   "source": [
    "sol(21, 14, 35, 1, 10)\n",
    "sol(20, 5, 100, 1, 5)"
   ]
  },
  {
   "cell_type": "code",
   "execution_count": 17,
   "metadata": {},
   "outputs": [
    {
     "data": {
      "text/plain": [
       "27.14456169766045"
      ]
     },
     "execution_count": 17,
     "metadata": {},
     "output_type": "execute_result"
    }
   ],
   "source": [
    "math.sqrt(2 * 160*math.log(1/(1-0.9)))"
   ]
  },
  {
   "cell_type": "code",
   "execution_count": null,
   "metadata": {},
   "outputs": [],
   "source": []
  }
 ],
 "metadata": {
  "kernelspec": {
   "display_name": "Python 3",
   "language": "python",
   "name": "python3"
  },
  "language_info": {
   "codemirror_mode": {
    "name": "ipython",
    "version": 3
   },
   "file_extension": ".py",
   "mimetype": "text/x-python",
   "name": "python",
   "nbconvert_exporter": "python",
   "pygments_lexer": "ipython3",
   "version": "3.7.3"
  }
 },
 "nbformat": 4,
 "nbformat_minor": 4
}
