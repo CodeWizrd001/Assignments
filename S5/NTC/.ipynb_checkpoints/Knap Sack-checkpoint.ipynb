{
 "cells": [
  {
   "cell_type": "raw",
   "metadata": {},
   "source": []
  },
  {
   "cell_type": "code",
   "execution_count": 18,
   "metadata": {},
   "outputs": [],
   "source": [
    "import numpy as np\n",
    "\n",
    "b = np.array( [7, 11, 19, 39, 79, 157,313])\n",
    "n = 900\n",
    "r = 37\n",
    "pT = [4,2,5,3,1,7,6]\n",
    "t = r * b % n\n",
    "a = np.zeros(b.shape)\n",
    "\n",
    "g = 'g'\n",
    "for i in range(len(pT)) :\n",
    "    a[i] = t[pT[i]-1]"
   ]
  },
  {
   "cell_type": "code",
   "execution_count": 19,
   "metadata": {},
   "outputs": [
    {
     "name": "stdout",
     "output_type": "stream",
     "text": [
      "T - [259 407 703 543 223 409 781]\n",
      "A - [543. 407. 223. 703. 259. 781. 409.]\n"
     ]
    }
   ],
   "source": [
    "print ('T -', t)\n",
    "print ('A -', a)\n"
   ]
  },
  {
   "cell_type": "code",
   "execution_count": null,
   "metadata": {},
   "outputs": [],
   "source": []
  },
  {
   "cell_type": "code",
   "execution_count": 20,
   "metadata": {},
   "outputs": [],
   "source": [
    "#gcd(a, b) = gcd(b, r)\n",
    "def euclidGCD(a, b):\n",
    "    r1 = a\n",
    "    r2 = b\n",
    "    r = r1%r2\n",
    "   \n",
    "    while(r2 > 0):\n",
    "        q = int(r1/r2)\n",
    "        r = r1 - (q*r2)\n",
    "        # print(\"r1 is\", r1, \"r2 is \", r2, \"r is \",r)\n",
    "        r1 = r2\n",
    "        r2 = r\n",
    "        \n",
    "    #print(\"gcd is \", r1)\n",
    "    return r1\n",
    "\n",
    "def extendedEuclideanalgo(a, b):\n",
    "    r1, r2 = a, b\n",
    "    s1, s2 = 1, 0\n",
    "    t1, t2 = 0, 1\n",
    "    while(r2 > 0):\n",
    "        q = int(r1/r2)\n",
    "        r = r1 - (q*r2)\n",
    "        print(\"r1 is\", r1, \"r2 is \", r2, \"r is \",r)\n",
    "        r1 = r2\n",
    "        r2 = r\n",
    "        s = s1 - (q*s2)\n",
    "        print(\"s1 is\", s1, \"s2 is \", s2)\n",
    "        s1 = s2\n",
    "        s2 = s\n",
    "        t = t1 - (q*t2)\n",
    "        print(\"t1 is\", t1, \"t2 is \", t2)\n",
    "        t1 = t2\n",
    "        t2 = t\n",
    "        print()\n",
    "    print(\"gcd is \", r1, \"s is \", s1, \"t is \", t1)\n",
    "    return r1,s1,t1 \n",
    "def mulInv(a, n):\n",
    "    if(euclidGCD(n, a) != 1):\n",
    "        print(\"Not possible!!\")\n",
    "    else:\n",
    "        g, s, t = extendedEuclideanalgo(n, a);\n",
    "        if(t < 0):\n",
    "            t = t + n\n",
    "        print(\"The multiplicative inverse is:\", t)\n",
    "    return t"
   ]
  },
  {
   "cell_type": "code",
   "execution_count": 21,
   "metadata": {},
   "outputs": [
    {
     "name": "stdout",
     "output_type": "stream",
     "text": [
      "1100111\n",
      "[1, 1, 0, 0, 1, 1, 1]\n",
      "[543.0, 407.0, 0.0, 0.0, 259.0, 781.0, 409.0]\n",
      "sumis\n",
      "2399.0\n"
     ]
    }
   ],
   "source": [
    "def bit7(x) :\n",
    "    t = bin(ord(x))[2:]\n",
    "    #if len(t) == 8 :\n",
    "    #    t = t[1:]\n",
    "    #while len(t) < 7 :\n",
    "    #    t = '0' + t\n",
    "    return t\n",
    "\n",
    "def encrypt(x) :\n",
    "    x = bit7(x)\n",
    "    print(x)\n",
    "    x = [int(i) for i in x]\n",
    "    print(x)\n",
    "    y = [a[i] * int(x[i]) for i in range(len(x))]\n",
    "    print(y)\n",
    "    print(\"sumis\")\n",
    "    print(sum(y))\n",
    "    return sum(y)\n",
    "\n",
    "def numb(x):\n",
    "    s = 0\n",
    "    for i in range(len(x)):\n",
    "        s += x[i] * (2**i)\n",
    "    return s\n",
    "\n",
    "def bruteInverse(a,m) :\n",
    "    if gcd(a,m) != 1 :\n",
    "        return -1 \n",
    "    for i in range(m) :\n",
    "        if (i*a)%m == 1 :\n",
    "            return i\n",
    "\n",
    "i = 'g'        \n",
    "s = encrypt(i)"
   ]
  },
  {
   "cell_type": "code",
   "execution_count": 28,
   "metadata": {},
   "outputs": [
    {
     "name": "stdout",
     "output_type": "stream",
     "text": [
      "1100100\n",
      "[1, 1, 0, 0, 1, 0, 0]\n",
      "[543.0, 407.0, 0.0, 0.0, 259.0, 0.0, 0.0]\n",
      "sumis\n",
      "1209.0\n",
      "57.0\n",
      "57.0\n",
      "57.0\n",
      "57.0\n",
      "18.0\n",
      "18.0\n",
      "7.0\n",
      "0.0\n",
      "[1. 1. 0. 0. 1. 0. 0.]\n",
      "d\n"
     ]
    }
   ],
   "source": [
    "from math import gcd \n",
    "h = 'h'\n",
    "g = 'd'\n",
    "s = encrypt(g)\n",
    "r_ = bruteInverse(r,n)\n",
    "s_ = s * r_ % n\n",
    "print(s_)\n",
    "\n",
    "bRev = list(b)\n",
    "bRev.reverse()\n",
    "\n",
    "def bruteInverse(a,m) :\n",
    "    if gcd(a,m) != 1 :\n",
    "        return -1 \n",
    "    for i in range(m) :\n",
    "        if (i*a)%m == 1 :\n",
    "            return i\n",
    "\n",
    "def decrypt(s_):\n",
    "    x_ = np.zeros(b.shape)\n",
    "    for i in range(len(bRev)) :\n",
    "        if bRev[i] <= s_ :\n",
    "            s_ = s_ - bRev[i]\n",
    "            x_[i] = 1\n",
    "            \n",
    "        else :\n",
    "            x_[i] = 0\n",
    "        print(s_)    \n",
    "    x_[:] = x_[::-1]\n",
    "   # x_ = x_.reverse()\n",
    "    temp = np.zeros(b.shape)\n",
    "    \n",
    "    for i in range(len(pT)) :\n",
    "        temp[i] = x_[pT[i]-1]\n",
    "    print(temp)\n",
    "    return chr(int('0b'+''.join([str(int(i)) for i in temp]),2))\n",
    "\n",
    "print(decrypt(s_))"
   ]
  },
  {
   "cell_type": "code",
   "execution_count": null,
   "metadata": {},
   "outputs": [],
   "source": []
  }
 ],
 "metadata": {
  "kernelspec": {
   "display_name": "Python 3",
   "language": "python",
   "name": "python3"
  },
  "language_info": {
   "codemirror_mode": {
    "name": "ipython",
    "version": 3
   },
   "file_extension": ".py",
   "mimetype": "text/x-python",
   "name": "python",
   "nbconvert_exporter": "python",
   "pygments_lexer": "ipython3",
   "version": "3.7.3"
  }
 },
 "nbformat": 4,
 "nbformat_minor": 4
}
