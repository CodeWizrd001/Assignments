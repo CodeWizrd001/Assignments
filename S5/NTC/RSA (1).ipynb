{
 "cells": [
  {
   "cell_type": "code",
   "execution_count": 2,
   "metadata": {},
   "outputs": [],
   "source": [
    "import random\n",
    "\n",
    "\n",
    "def gcd(a, b):\n",
    "    while b != 0:\n",
    "        a, b = b, a % b\n",
    "    return a\n",
    "\n",
    "'''\n",
    "Euclid's extended algorithm for finding the multiplicative inverse of two numbers\n",
    "'''\n",
    "def multiplicative_inverse(e, phi):\n",
    "    d = 0\n",
    "    x1 = 0\n",
    "    x2 = 1\n",
    "    y1 = 1\n",
    "    temp_phi = phi\n",
    "    \n",
    "    while e > 0:\n",
    "        temp1 = temp_phi/e\n",
    "        temp2 = temp_phi - temp1 * e\n",
    "        temp_phi = e\n",
    "        e = temp2\n",
    "        \n",
    "        x = x2- temp1* x1\n",
    "        y = d - temp1 * y1\n",
    "        \n",
    "        x2 = x1\n",
    "        x1 = x\n",
    "        d = y1\n",
    "        y1 = y\n",
    "    \n",
    "    if temp_phi == 1:\n",
    "        return d + phi\n",
    "\n",
    "'''\n",
    "Tests to see if a number is prime.\n",
    "'''\n",
    "def is_prime(num):\n",
    "    if num == 2:\n",
    "        return True\n",
    "    if num < 2 or num % 2 == 0:\n",
    "        return False\n",
    "    for n in range(3, int(num**0.5)+2,2):\n",
    "        if num % n == 0:\n",
    "            return False\n",
    "    return True\n",
    "\n",
    "def bruteInverse(a,m) :\n",
    "    if gcd(a,m) != 1 :\n",
    "        return -1 \n",
    "    for i in range(m) :\n",
    "        if (i*a)%m == 1 :\n",
    "            return i\n",
    "\n",
    "def generate_keypair(p, q):\n",
    "    if not (is_prime(p) and is_prime(q)):\n",
    "        raise ValueError('Both numbers must be prime.')\n",
    "    elif p == q:\n",
    "        raise ValueError('p and q cannot be equal')\n",
    "    #n = pq\n",
    "    n = p * q\n",
    "\n",
    "    #Phi is the totient of n\n",
    "    # Euler quotient\n",
    "    phi = (p-1) * (q-1)\n",
    "\n",
    "\n",
    "    #Choose an integer e such that e and phi(n) are coprime\n",
    "#     e = random.randrange(1, phi)\n",
    "    e=33\n",
    "    ## not random should have inverse\n",
    "\n",
    "    #Use Euclid's Algorithm to verify that e and phi(n) are comprime\n",
    "    g = gcd(e, phi)\n",
    "    while g != 1:\n",
    "        e = random.randrange(1, phi)\n",
    "        g = gcd(e, phi)\n",
    "    \n",
    "    #Use Extended Euclid's Algorithm to generate the private key\n",
    "    print(f\"For e= {e}  phi={phi}\")\n",
    "    # d = multiplicative_inverse(e, phi)\n",
    "    d = bruteInverse(e,phi)\n",
    "    print(\"d=\"+str(d))\n",
    "    #Return public and private keypair\n",
    "    #Public key is (e, n) and private key is (d, n)\n",
    "    return ((e, n), (d, n))\n",
    "\n",
    "def encrypt(pk, plaintext):\n",
    "    #Unpack the key into it's components\n",
    "    key, n = pk\n",
    "    #Convert each letter in the plaintext to numbers based on the character using a^b mod m\n",
    "    cipher = [(ord(char) ** key) % n for char in plaintext]\n",
    "    #Return the array of bytes\n",
    "    return cipher\n",
    "\n",
    "def decrypt(pk, ciphertext):\n",
    "    #Unpack the key into its components\n",
    "    key, n = pk\n",
    "    #Generate the plaintext based on the ciphertext and key using a^b mod m\n",
    "    plain = [chr((char ** key) % n) for char in ciphertext]\n",
    "    #Return the array of bytes as a string\n",
    "    return ''.join(plain)"
   ]
  },
  {
   "cell_type": "code",
   "execution_count": 3,
   "metadata": {
    "scrolled": true
   },
   "outputs": [
    {
     "name": "stdout",
     "output_type": "stream",
     "text": [
      "RSA Encrypter/ Decrypter\n",
      "Enter a prime number (17, 19, 23, etc): 17\n",
      "Enter another prime number (Not one you entered above): 37\n",
      "Generating your public/private keypairs now . . .\n",
      "For e= 533  phi=576\n",
      "d=509\n",
      "(533, 629)\n",
      "(509, 629)\n",
      "Your public key is  (533, 629)  and your private key is  (509, 629)\n",
      "Enter a message to encrypt with your private key: hello\n",
      "Your encrypted message is: \n",
      "287492571571518\n",
      "Decrypting message with public key  (533, 629)  . . .\n",
      "Your message is:\n",
      "hello\n"
     ]
    }
   ],
   "source": [
    "print(\"RSA Encrypter/ Decrypter\")\n",
    "p = int(input(\"Enter a prime number (17, 19, 23, etc): \"))\n",
    "q = int(input(\"Enter another prime number (Not one you entered above): \"))\n",
    "print(\"Generating your public/private keypairs now . . .\")\n",
    "public, private = generate_keypair(p, q)\n",
    "print(public)\n",
    "print(private)\n",
    "print(\"Your public key is \", public ,\" and your private key is \", private)\n",
    "message = input(\"Enter a message to encrypt with your private key: \")\n",
    "encrypted_msg = encrypt(private, message)\n",
    "print(\"Your encrypted message is: \")\n",
    "print(''.join(map(lambda x: str(x), encrypted_msg)))\n",
    "print(\"Decrypting message with public key \", public ,\" . . .\")\n",
    "print(\"Your message is:\")\n",
    "print(decrypt(public, encrypted_msg))"
   ]
  },
  {
   "cell_type": "code",
   "execution_count": 4,
   "metadata": {},
   "outputs": [
    {
     "data": {
      "text/plain": [
       "(533, 629)"
      ]
     },
     "execution_count": 4,
     "metadata": {},
     "output_type": "execute_result"
    }
   ],
   "source": [
    "public"
   ]
  },
  {
   "cell_type": "code",
   "execution_count": 5,
   "metadata": {},
   "outputs": [
    {
     "data": {
      "text/plain": [
       "(509, 629)"
      ]
     },
     "execution_count": 5,
     "metadata": {},
     "output_type": "execute_result"
    }
   ],
   "source": [
    "private"
   ]
  },
  {
   "cell_type": "code",
   "execution_count": null,
   "metadata": {},
   "outputs": [],
   "source": [
    "encrypt()"
   ]
  },
  {
   "cell_type": "code",
   "execution_count": null,
   "metadata": {},
   "outputs": [],
   "source": []
  },
  {
   "cell_type": "code",
   "execution_count": 9,
   "metadata": {},
   "outputs": [],
   "source": [
    "# Euler"
   ]
  },
  {
   "cell_type": "code",
   "execution_count": 2,
   "metadata": {},
   "outputs": [],
   "source": [
    "def phi(n) : \n",
    "  \n",
    "    result = n   # Initialize result as n \n",
    "       \n",
    "    # Consider all prime factors \n",
    "    # of n and for every prime \n",
    "    # factor p, multiply result with (1 - 1 / p) \n",
    "    p = 2\n",
    "    while p * p<= n : \n",
    "  \n",
    "        # Check if p is a prime factor. \n",
    "        if n % p == 0 : \n",
    "  \n",
    "            # If yes, then update n and result \n",
    "            while n % p == 0 : \n",
    "                n = n // p \n",
    "            result = result * (1.0 - (1.0 / float(p))) \n",
    "        p = p + 1\n",
    "          \n",
    "          \n",
    "    # If n has a prime factor \n",
    "    # greater than sqrt(n) \n",
    "    # (There can be at-most one \n",
    "    # such prime factor) \n",
    "    if n > 1 : \n",
    "        result = result * (1.0 - (1.0 / float(n))) \n",
    "   \n",
    "    return int(result) \n",
    "            "
   ]
  },
  {
   "cell_type": "code",
   "execution_count": 6,
   "metadata": {},
   "outputs": [
    {
     "data": {
      "text/plain": [
       "4"
      ]
     },
     "execution_count": 6,
     "metadata": {},
     "output_type": "execute_result"
    }
   ],
   "source": [
    "phi(5)"
   ]
  },
  {
   "cell_type": "code",
   "execution_count": 7,
   "metadata": {},
   "outputs": [
    {
     "data": {
      "text/plain": [
       "4"
      ]
     },
     "execution_count": 7,
     "metadata": {},
     "output_type": "execute_result"
    }
   ],
   "source": [
    "(4**3)%15"
   ]
  },
  {
   "cell_type": "code",
   "execution_count": 13,
   "metadata": {},
   "outputs": [
    {
     "data": {
      "text/plain": [
       "187"
      ]
     },
     "execution_count": 13,
     "metadata": {},
     "output_type": "execute_result"
    }
   ],
   "source": [
    "10*17\n"
   ]
  },
  {
   "cell_type": "code",
   "execution_count": 6,
   "metadata": {},
   "outputs": [
    {
     "data": {
      "text/plain": [
       "109"
      ]
     },
     "execution_count": 6,
     "metadata": {},
     "output_type": "execute_result"
    }
   ],
   "source": [
    "1005%128"
   ]
  },
  {
   "cell_type": "code",
   "execution_count": null,
   "metadata": {},
   "outputs": [],
   "source": []
  }
 ],
 "metadata": {
  "kernelspec": {
   "display_name": "Python 3",
   "language": "python",
   "name": "python3"
  },
  "language_info": {
   "codemirror_mode": {
    "name": "ipython",
    "version": 3
   },
   "file_extension": ".py",
   "mimetype": "text/x-python",
   "name": "python",
   "nbconvert_exporter": "python",
   "pygments_lexer": "ipython3",
   "version": "3.7.3"
  }
 },
 "nbformat": 4,
 "nbformat_minor": 2
}
