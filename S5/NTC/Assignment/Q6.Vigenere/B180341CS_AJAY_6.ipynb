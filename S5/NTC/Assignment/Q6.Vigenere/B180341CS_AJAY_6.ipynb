{
 "cells": [
  {
   "cell_type": "code",
   "execution_count": 1,
   "metadata": {},
   "outputs": [],
   "source": [
    "# All Utility Imports Which Are Required To Functioning of the Cryptosystem"
   ]
  },
  {
   "cell_type": "code",
   "execution_count": 2,
   "metadata": {},
   "outputs": [],
   "source": [
    "import string\n",
    "import random\n",
    "import math\n",
    "from math import gcd \n",
    "import numpy as np\n",
    "from sympy import Matrix\n",
    "from collections import Counter\n",
    "from itertools import permutations , combinations"
   ]
  },
  {
   "cell_type": "code",
   "execution_count": 3,
   "metadata": {},
   "outputs": [],
   "source": [
    "# Creating the wordlist dictionary\n",
    "# Defining Other Necessary Variables"
   ]
  },
  {
   "cell_type": "code",
   "execution_count": 4,
   "metadata": {},
   "outputs": [],
   "source": [
    "alphaDictCaps = {}\n",
    "\n",
    "dictFile = open(\"dictionary.txt\")\n",
    "dictionary = [i.strip('\\n') for i in dictFile.readlines() if (len(i.strip('\\n'))) != 1 and (len(i.strip('\\n'))) != 2]\n",
    "\n",
    "freqDict = {\n",
    "    12.7 : ['E'] ,\n",
    "    9.1 : ['T'] ,\n",
    "    8.2 : ['A'] ,\n",
    "    7.5 : ['O'] ,\n",
    "    7.0 : ['I'] ,\n",
    "    6.7 : ['N'] ,\n",
    "    6.3 : ['S'] ,\n",
    "    6.1 : ['H'] ,\n",
    "    6.0 : ['R'] ,\n",
    "    4.3 : ['D'] ,\n",
    "    4.0 : ['L'] ,\n",
    "    2.8 : ['C','U'] ,\n",
    "    2.4 : ['M'] ,\n",
    "    2.3 : ['W'] ,\n",
    "    2.2 : ['F'] ,\n",
    "    2.0 : ['G','Y'] ,\n",
    "    1.9 : ['P'] ,\n",
    "    1.5 : ['B'] ,\n",
    "    1.0 : ['V'] ,\n",
    "    0.08 : ['K'] ,\n",
    "    0.02 : ['J'] ,\n",
    "    0.01 : ['Q','X','Z'] ,\n",
    "}\n",
    "\n",
    "def freqRound(x) :\n",
    "    if x >= 12.7 :\n",
    "        return 12.7 \n",
    "    elif x >= 9.1 :\n",
    "        return 9.1\n",
    "    elif x >= 8.2 :\n",
    "        return 8.2\n",
    "    elif x >= 7.5 :\n",
    "        return 7.5\n",
    "    elif x >= 7.0 :\n",
    "        return 7.0\n",
    "    elif x >= 6.7 :\n",
    "        return 6.7\n",
    "    elif x >= 6.3 :\n",
    "        return 6.3 \n",
    "    elif x >= 6.1 :\n",
    "        return 6.1\n",
    "    elif x >= 6.0 :\n",
    "        return 6.0\n",
    "    elif x >= 4.3 :\n",
    "        return 4.3\n",
    "    elif x >= 4.0 :\n",
    "        return 4.0\n",
    "    elif x >= 2.8 :\n",
    "        return 2.8\n",
    "    elif x >= 2.4 :\n",
    "        return 2.4\n",
    "    elif x >= 2.3 :\n",
    "        return 2.3 \n",
    "    elif x >= 2.2 :\n",
    "        return 2.2\n",
    "    elif x >= 2.0 :\n",
    "        return 2.0\n",
    "    elif x >= 1.9 :\n",
    "        return 1.9\n",
    "    elif x >= 1.5 :\n",
    "        return 1.5\n",
    "    elif x >= 1.0 :\n",
    "        return 1.0\n",
    "    elif x >= 0.08 :\n",
    "        return 0.08\n",
    "    elif x >= 0.02 :\n",
    "        return 0.02\n",
    "    else :\n",
    "        return 0.01\n",
    "\n",
    "upper = string.ascii_uppercase\n",
    "for i in range(len(upper)) :\n",
    "    alphaDictCaps[i] = upper[i]\n",
    "    alphaDictCaps[upper[i]] = i\n",
    "alphaDict = {}\n",
    "chars = string.ascii_uppercase + string.ascii_lowercase\n",
    "for i in range(len(chars)) :\n",
    "    alphaDict[i] = chars[i]\n",
    "    alphaDict[chars[i]] = i"
   ]
  },
  {
   "cell_type": "code",
   "execution_count": 5,
   "metadata": {},
   "outputs": [],
   "source": [
    "# Defining Custom Exception Which Might Be Raised during Execution"
   ]
  },
  {
   "cell_type": "code",
   "execution_count": 6,
   "metadata": {},
   "outputs": [],
   "source": [
    "class ParameterError(BaseException) :\n",
    "    def toDict(self) :\n",
    "        return None\n",
    "\n",
    "class KeyException(BaseException) :\n",
    "    def toDict(self) :\n",
    "        return None"
   ]
  },
  {
   "cell_type": "code",
   "execution_count": 7,
   "metadata": {},
   "outputs": [],
   "source": [
    "# Defining Common Utility Functions "
   ]
  },
  {
   "cell_type": "code",
   "execution_count": 8,
   "metadata": {},
   "outputs": [],
   "source": [
    "def power(x, y, m) : \n",
    "    if (y == 0) : \n",
    "        return 1\n",
    "    p = power(x, y // 2, m) % m \n",
    "    p = (p * p) % m \n",
    "    print(p)\n",
    "    if(y % 2 == 0) : \n",
    "        return p  \n",
    "    else :  \n",
    "        return ((x * p) % m)\n",
    "\n",
    "def modInverse(a, m) : \n",
    "    g = gcd(a, m) \n",
    "    if (g != 1) : \n",
    "        return -1 \n",
    "    else :\n",
    "        return power(a, m - 2, m)\n",
    "    \n",
    "def bruteInverse(a,m) :\n",
    "    if gcd(a,m) != 1 :\n",
    "        return -1 \n",
    "    for i in range(26) :\n",
    "        if (i*a)%m == 1 :\n",
    "            return i\n",
    "\n",
    "def getRandomValue(*args,**kwargs) :\n",
    "    return random.randint(0,100)\n",
    "\n",
    "def getRandomKey() :\n",
    "    temp = list(upper)\n",
    "    temp.sort(key=getRandomValue)\n",
    "    return ''.join(temp)"
   ]
  },
  {
   "cell_type": "code",
   "execution_count": 9,
   "metadata": {},
   "outputs": [],
   "source": [
    "# Define Vigenere Cryptosystem\n",
    "\n",
    "vigTable = {}\n",
    "for i in range(len(upper)) :\n",
    "    vigTable[upper[i]] = {}\n",
    "    for j in range(len(upper)) :\n",
    "        vigTable[upper[i]][upper[j]] = upper[(i+j)%26]\n",
    "\n",
    "class VigenereCryptosystem :\n",
    "    # Initialize with default values\n",
    "    def __init__(self) :\n",
    "        self.plainText = \"\"\n",
    "        self.cipherText = \"\"\n",
    "        self.key = \"\"\n",
    "\n",
    "    def vigInv(ciphChar,keyChar) :\n",
    "        for i in vigTable :\n",
    "            if vigTable[i][keyChar] == ciphChar :\n",
    "                return i\n",
    "        return None\n",
    "\n",
    "    def vigEnc(self,string,key=\"KEY\",*args,**kwargs) :\n",
    "        # Caps Implementation\n",
    "        key = key.upper()\n",
    "        string = string.upper()\n",
    "        string = string.replace(\" \",\"\")\n",
    "\n",
    "        t = key\n",
    "        while len(key) < len(string) :\n",
    "            key += t\n",
    "        key = key[:len(string)]\n",
    "        cipherText = \"\"\n",
    "        for i in range(len(string)) :\n",
    "            cipherText += vigTable[string[i]][key[i]]\n",
    "        return cipherText\n",
    "\n",
    "    def vigDec(self,string,key=\"KEY\",*args,**kwargs) :\n",
    "        # Caps Implementation\n",
    "        key = key.upper()\n",
    "        string = string.upper()\n",
    "        string = string.replace(\" \",\"\")\n",
    "\n",
    "        t = key\n",
    "        while len(key) < len(string) :\n",
    "            key += t\n",
    "        key = key[:len(string)]\n",
    "        plainText = \"\"\n",
    "        for i in range(len(string)) :\n",
    "            plainText += VigenereCryptosystem.vigInv(string[i],key[i])\n",
    "        return plainText"
   ]
  },
  {
   "cell_type": "code",
   "execution_count": 10,
   "metadata": {},
   "outputs": [],
   "source": [
    "# Create A Cryptosystem\n",
    "vCrypto = VigenereCryptosystem()"
   ]
  },
  {
   "cell_type": "code",
   "execution_count": 11,
   "metadata": {},
   "outputs": [
    {
     "data": {
      "text/plain": [
       "'HJPNYKIPTQDYY'"
      ]
     },
     "execution_count": 11,
     "metadata": {},
     "output_type": "execute_result"
    }
   ],
   "source": [
    "vCrypto.vigEnc(\"HAPPYBIRTHDAY\",\"AJAY\")"
   ]
  },
  {
   "cell_type": "code",
   "execution_count": 12,
   "metadata": {},
   "outputs": [
    {
     "data": {
      "text/plain": [
       "'HAPPYBIRTHDAY'"
      ]
     },
     "execution_count": 12,
     "metadata": {},
     "output_type": "execute_result"
    }
   ],
   "source": [
    "vCrypto.vigDec('HJPNYKIPTQDYY',\"AJAY\")"
   ]
  },
  {
   "cell_type": "code",
   "execution_count": 13,
   "metadata": {},
   "outputs": [],
   "source": [
    "# Cryptanalysis"
   ]
  },
  {
   "cell_type": "code",
   "execution_count": 14,
   "metadata": {},
   "outputs": [],
   "source": [
    "# Cryptanalysis of Vigenere Cipher\n",
    "vigTable = {}\n",
    "for i in range(len(upper)) :\n",
    "    vigTable[upper[i]] = {}\n",
    "    for j in range(len(upper)) :\n",
    "        vigTable[upper[i]][upper[j]] = upper[(i+j)%26]\n",
    "\n",
    "# Get the key Corresponding to Pair of characters\n",
    "def vigKey(plainChar,ciphChar) :\n",
    "    for i in vigTable[plainChar] :\n",
    "        if vigTable[plainChar][i] == ciphChar :\n",
    "            return i\n",
    "\n",
    "# Known Pair Attack\n",
    "def knownVig(cipherText,plainText) :\n",
    "    # Caps Implementation\n",
    "    plainText = plainText.upper()\n",
    "    plainText = plainText.replace(\" \",\"\")\n",
    "    cipherText = cipherText.upper()\n",
    "    cipherText = cipherText.replace(\" \",\"\")\n",
    "    \n",
    "    assert len(plainText) == len(cipherText) , \"Invalid Pair\"\n",
    "    \n",
    "    key = \"\"\n",
    "    for i in range(len(plainText)) :\n",
    "        key += vigKey(plainText[i],cipherText[i])\n",
    "    return key\n",
    "\n",
    "# GCD of A list of numbers\n",
    "def listGCD(l) :\n",
    "    if len(l) == 0 :\n",
    "        raise ParameterException(\"Empty List\")\n",
    "    elif len(l) == 1 :\n",
    "        return l[0]\n",
    "    gcd = math.gcd(l[0],l[1])\n",
    "    for i in l :\n",
    "        gcd = math.gcd(gcd,i)\n",
    "    return gcd#\n",
    "\n",
    "# Function to return Mod inverse\n",
    "def bruteInverse(a,m) :\n",
    "    if gcd(a,m) != 1 :\n",
    "        return -1 \n",
    "    for i in range(26) :\n",
    "        if (i*a)%m == 1 :\n",
    "            return i\n",
    "\n",
    "# Shift Cipher Decrypt\n",
    "def shiftDec(string,k,**kwargs) :\n",
    "    # All Caps or not\n",
    "    caps = kwargs.get('caps',True)\n",
    "    # Dictionary of characters\n",
    "    if caps :\n",
    "        string = string.upper()\n",
    "        aD = kwargs.get('aD',alphaDictCaps)\n",
    "    else :\n",
    "        aD = kwargs.get('aD',alphaDict)\n",
    "        \n",
    "    m = len(aD) / 2\n",
    "    m = int(m)\n",
    "    \n",
    "    plainText = \"\".join([aD[(aD[i] - k ) % m] for i in string])\n",
    "    \n",
    "    return plainText\n",
    "        \n",
    "# Statistical Analysis of Shift Cipher with 20 Character Margin\n",
    "def statisticalShift(cipherText,top = -1): \n",
    "    matchDict = {}\n",
    "    matchList = []\n",
    "    cipherText = cipherText.upper()\n",
    "    \n",
    "    freqDict_ = { \"A\" : 0,  \"B\" : 0,  \"C\" : 0,  \"D\" : 0,  \"E\" : 0, \"F\" : 0,  \"G\" : 0,\n",
    "        \"H\" : 0,  \"I\" : 0,  \"J\" : 0,  \"K\" : 0,  \"L\" : 0,  \"M\" : 0,  \"N\" : 0,  \"O\" :   0,\n",
    "        \"P\" : 0,  \"Q\" : 0,  \"R\" : 0,  \"S\" : 0,  \"T\" : 0,  \"U\" : 0,  \"V\" : 0,  \"W\" : 0,\n",
    "        \"X\" : 0,  \"Y\" : 0,  \"Z\" : 0 }\n",
    "    \n",
    "    topList = ['E','T','A','O','I','N','S','H','R','D','L','C','U','M','W','F']\n",
    "    \n",
    "    for letter in cipherText:\n",
    "        freqDict_[letter] += 1 \n",
    "    topOccurences  = sorted(freqDict_.keys(),reverse = True, key = lambda x : freqDict_[x])\n",
    "    \n",
    "    probableKeys = []\n",
    "    \n",
    "    for i in range(len(topList)):\n",
    "        probableKeys.append((ord(topOccurences[i])-ord(topList[i]))%26)\n",
    "    \n",
    "    plaintxts = list()\n",
    "    # Loop through possible keys \n",
    "    # To find the possible values\n",
    "    for i in range(len(topList)):\n",
    "        i = probableKeys[i]\n",
    "        plainText = shiftDec(cipherText, i)\n",
    "        for j in dictionary :\n",
    "                if j.upper() in plainText :\n",
    "                    try :\n",
    "                        matchDict[plainText] += len(j)\n",
    "                    except :\n",
    "                        matchDict[plainText] = len(j)\n",
    "                        matchList.append((i,plainText))\n",
    "    \n",
    "    # Sort Matching List by number of word matches\n",
    "    matchList.sort(reverse=True,key = lambda x : matchDict[x[1]])\n",
    "    if top == -1 :\n",
    "        return matchList\n",
    "    else :\n",
    "        return matchList[:top]\n",
    "    return matchList\n",
    "\n",
    "def kasiskiTest(cipherText,top=-1) :\n",
    "    repLength = 3\n",
    "    repList = set()\n",
    "    repDict = {}\n",
    "    \n",
    "    cipherText = cipherText.upper()\n",
    "    \n",
    "    # Finds repeating sequences\n",
    "    for i in range(len(cipherText)-repLength) :\n",
    "        sequence = cipherText[i:i+repLength]\n",
    "        repList.add((i,sequence))\n",
    "        try :\n",
    "            repDict[sequence].add(i)\n",
    "        except :\n",
    "            repDict[sequence] = {i}\n",
    "        for j in range(i,len(cipherText)-repLength) :\n",
    "            if sequence == cipherText[j:j+repLength] :\n",
    "                repList.add((j,sequence))\n",
    "                repDict[sequence].add(i)\n",
    "    \n",
    "    newRepDict = {}\n",
    "    for i in repDict :\n",
    "        if len(repDict[i]) > 1 :\n",
    "            newRepDict[i] = list(repDict[i])\n",
    "    repDict = newRepDict\n",
    "    \n",
    "    diffs = set()\n",
    "    for i in repDict :\n",
    "        diffs.add(abs(repDict[i][1]-repDict[i][0]))\n",
    "        if len(repDict[i]) > 2 :\n",
    "            diffs.add(abs(repDict[i][2]-repDict[i][1]))\n",
    "    diffs = list(diffs)\n",
    "    \n",
    "    # Take keyBase as GCD  of all distances\n",
    "    keyBase = listGCD(diffs)\n",
    "    \n",
    "    count = 1\n",
    "    keyLength = keyBase * count\n",
    "    \n",
    "    freqDict_ = freqDict\n",
    "    \n",
    "    possibles = []\n",
    "    \n",
    "    print(f\"KeyLength {keyLength}\")\n",
    "    \n",
    "    while keyLength <= keyBase * 1 :\n",
    "        chunkLength = int(math.ceil(len(cipherText)/keyLength))\n",
    "        \n",
    "        # Dividing Ciphertext into keyLength chunks\n",
    "        chunks = [\"\" for i in range(keyLength)]\n",
    "        # Statistical Analysis on each chunk\n",
    "        for i in range(len(cipherText)) :\n",
    "            chunks[i % keyLength] += cipherText[i]\n",
    "        plainChunks = [statisticalShift(i,7) for i in chunks]\n",
    "        \n",
    "        # Create all permutations of the possible plainText chunks\n",
    "        ans = [[i[1]] for i in plainChunks[0]]\n",
    "        for j in plainChunks[1:] :\n",
    "            tAns = []\n",
    "            for i in ans :\n",
    "                for k in j :\n",
    "                    x = i.copy()\n",
    "                    x.append(k[1])\n",
    "                    tAns.append(x)\n",
    "            ans = tAns\n",
    "            # print(ans)\n",
    "        \n",
    "        # Convert permutations back to strings \n",
    "        for i in ans :\n",
    "            temp = list(cipherText)\n",
    "            for j in range(chunkLength) :\n",
    "                for k in range(keyLength) :\n",
    "                    try :\n",
    "                        temp[j * keyLength + k] = i[k][j]\n",
    "                    except :\n",
    "                        pass\n",
    "            possibles.append(''.join(temp))\n",
    "        \n",
    "        count += 1\n",
    "        keyLength = keyBase * count\n",
    "    \n",
    "    matchDict = {}\n",
    "    matchList = []\n",
    "\n",
    "    print(len(possibles))\n",
    "    \n",
    "    # Dictionary Matching\n",
    "    for i in possibles :\n",
    "        for j in dictionary :\n",
    "            if j.upper() in i :\n",
    "                try :\n",
    "                    matchDict[i] += len(j)\n",
    "                except :\n",
    "                    matchDict[i] = len(j)\n",
    "                    matchList.append(i)\n",
    "    \n",
    "    # Sort with respect to most matches\n",
    "    matchList.sort(reverse=True,key = lambda x : matchDict[x])\n",
    "    \n",
    "    # Return Top few values or the whole list\n",
    "    if top == -1 :\n",
    "        return matchList\n",
    "    else :\n",
    "        return matchList[:top]"
   ]
  },
  {
   "cell_type": "code",
   "execution_count": 17,
   "metadata": {},
   "outputs": [
    {
     "data": {
      "text/plain": [
       "'AJAYAJAYAJAYA'"
      ]
     },
     "execution_count": 17,
     "metadata": {},
     "output_type": "execute_result"
    }
   ],
   "source": [
    "knownVig(\"HJPNYKIPTQDYY\",\"HAPPYBIRTHDAY\")"
   ]
  },
  {
   "cell_type": "code",
   "execution_count": 15,
   "metadata": {},
   "outputs": [
    {
     "name": "stdout",
     "output_type": "stream",
     "text": [
      "KeyLength 4\n",
      "2401\n"
     ]
    },
    {
     "data": {
      "text/plain": [
       "['JULIUSCAESARUSEDACRYPTOSYSTEMINHISWARWHICHISNOWREFERREDTOASCAESARCIPHERITISASHITCIPHERWITHTHEKEYSETTOTHREEEACHCHARACTERINTHEPLAINTEXTISSHIFTERTHREECHARACTERSOCREATEACIPHERTEXT',\n",
       " 'YULIJSCATSARJSEDPCRYETOSNSTEBINHXSWAGWHIRHISCOWRTFERGEDTDASCPESAGCIPWERIIISAHHITRIPHTRWIIHTHTKEYHETTDTHRTEEARHCHPRACIERICTHEELAICTEXIISSWIFTTRTHGEECWARARTERHOCRTATEPCIPWERTTXT',\n",
       " 'JFTIUDKAEDIRUDMDANZYPEWSYDBEMTVHIDEARHPICSQSNZEREQMRRPLTOLACAPAARNQPHPZITTAASSQTCTXHECEITSBHEVMYSPBTOEPREPMACSKHACICTPZINEPEPWIINEMXTTASHTNTECBHRPMCHLZACEMRSZKRELBEANQPHPZTEIB',\n",
       " 'JULWUSCOESAFUSERACRMPTOGYSTSMINVISWORWHWCHIGNOWFEFEFREDHOASQAESORCIDHERWTISOSHIHCIPVERWWTHTVEKEMSETHOTHFEEEOCHCVARAQTERWNTHSPLAWNTELTISGHIFHERTVREEQHAROCTEFSOCFEATSACIDHERHEXT',\n",
       " 'YULTJSCLTSACJSEOPCRJETODNSTPBINSXSWLGWHTRHIDCOWCTFECGEDEDASNPESLGCIAWERTIISLHHIERIPSTRWTIHTSTKEJHETEDTHCTEELRHCSPRANIERTCTHPELATCTEIIISDWIFETRTSGEENWARLRTECHOCCTATPPCIAWERETXT']"
      ]
     },
     "execution_count": 15,
     "metadata": {},
     "output_type": "execute_result"
    }
   ],
   "source": [
    "kasiskiTest('LIOMWGFEGGDVWGHHCQUCRHRWAGWIOWQLKGZETKKMEVLWPCZVGTHVTSGXQOVGCSVETQLTJSUMVWVEUVLXEWSLGFZMVVWLGYHCUSWXQHKVGSHEEVFLCFDGVSUMPHKIRZDMPHHBVWVWJWIXGFWLTSHGJOUEEHHVUCFVGOWICQLTJSUXGLW',5)"
   ]
  },
  {
   "cell_type": "code",
   "execution_count": 16,
   "metadata": {},
   "outputs": [
    {
     "name": "stdout",
     "output_type": "stream",
     "text": [
      "KeyLength 4\n",
      "2401\n"
     ]
    },
    {
     "data": {
      "text/plain": [
       "['THEKASISKIEXAMINATIONINVOLVESLOOKINGFORSTRINGSOFCHARACTERSTHATAREREPEATEDINTHECIPHERTEXTTHESTRINGSSHOULDBETHREECHARACTERSLONGORMOREFORTHEEXAMINATIONTOBESUCCESSFUL',\n",
       " 'TDEKAOISKEEXAIINAPIONENVOHVESHOOKENGFKRSTNINGOOFCDARAYTEROTHAPARENEPEWTEDENTHACIPDERTAXTTDESTNINGOSHOQLDBATHRAECHWRACPERSHONGKRMONEFONTHEAXAMENATEONTKBESQCCEOSFUH',\n",
       " 'THEPASIXKIECAMISATITNINAOLVJSLOTKINLFORXTRISGSOKCHAWACTJRSTMATAWEREUEATJDINYHECNPHEWTEXYTHEXTRISGSSMOULIBETMREEHHARFCTEWSLOSGORROREKORTMEEXFMINFTIOSTOBJSUCHESSKUL',\n",
       " 'THUKASYSKIUXAMYNATYONIDVOLLESLEOKIDGFOHSTRYNGSEFCHQRACJERSJHATQRERUPEAJEDIDTHESIPHURTENTTHUSTRYNGSIHOUBDBEJHREUCHAHACTURSLENGOHMORUFORJHEENAMIDATIENTORESUSCESIFUL',\n",
       " 'THAKASESKIAXAMENATEONIJVOLRESLKOKIJGFONSTRENGSKFCHWRACPERSPHATWRERAPEAPEDIJTHEYIPHARTETTTHASTRENGSOHOUHDBEPHREACHANACTARSLKNGONMORAFORPHEETAMIJATIKNTOXESUYCESOFUL']"
      ]
     },
     "execution_count": 16,
     "metadata": {},
     "output_type": "execute_result"
    }
   ],
   "source": [
    "kasiskiTest('ZVPNGGTVQWPAGATQGHTRTWYYUZGHYZZRQWYJLCCVZFTQMGZIIVLUGQEHXGEKGHLUKFPSKOEHJWYWNSNLVVPUZSIWZVPVZFTQMGDKUIWGHSEKXSPFNOCDIHPUYZZQMCCPUFPIUFEKKSIDSWYDZWZQZCMHYINFKGDIAZ',5)"
   ]
  },
  {
   "cell_type": "code",
   "execution_count": null,
   "metadata": {},
   "outputs": [],
   "source": []
  }
 ],
 "metadata": {
  "kernelspec": {
   "display_name": "SageMath 9.1",
   "language": "sage",
   "name": "sagemath"
  },
  "language_info": {
   "codemirror_mode": {
    "name": "ipython",
    "version": 3
   },
   "file_extension": ".py",
   "mimetype": "text/x-python",
   "name": "python",
   "nbconvert_exporter": "python",
   "pygments_lexer": "ipython3",
   "version": "3.7.3"
  }
 },
 "nbformat": 4,
 "nbformat_minor": 2
}
