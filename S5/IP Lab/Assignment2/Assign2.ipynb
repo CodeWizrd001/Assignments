{
 "cells": [
  {
   "cell_type": "code",
   "execution_count": 52,
   "metadata": {},
   "outputs": [],
   "source": [
    "import numpy as np\n",
    "#import cmath"
   ]
  },
  {
   "cell_type": "code",
   "execution_count": 53,
   "metadata": {},
   "outputs": [],
   "source": [
    "#intialising arrays\n",
    "forward_basis = np.zeros((4,4), dtype=complex)\n",
    "inverse_basis = np.zeros((4,4), dtype=complex)"
   ]
  },
  {
   "cell_type": "code",
   "execution_count": 61,
   "metadata": {},
   "outputs": [
    {
     "name": "stdout",
     "output_type": "stream",
     "text": [
      "The basis vectors of the forward 1D DFT for N=4 : \n",
      "\n",
      "\n",
      "(1+0j) (1+0j) (1+0j) (1+0j)\n",
      "(1+0j) (6.123233995736766e-17-1j) (-1-1.2246467991473532e-16j) (-1.8369701987210297e-16+1j)\n",
      "(1+0j) (-1-1.2246467991473532e-16j) (1+2.4492935982947064e-16j) (-1-3.6739403974420594e-16j)\n",
      "(1+0j) (-1.8369701987210297e-16+1j) (-1-3.6739403974420594e-16j) (5.51091059616309e-16-1j)\n"
     ]
    }
   ],
   "source": [
    "#the basis vectors of the forward 1D DFT for N=4\n",
    "for n in range(4):\n",
    "    w = 2*np.pi*n/4\n",
    "    for k in range(4):\n",
    "        forward_basis[n][k] = np.exp(-1j*w*k)\n",
    "print(\"The basis vectors of the forward 1D DFT for N=4 : \\n\\n\")\n",
    "for i in forward_basis:\n",
    "    print(i[0],i[1],i[2],i[3])"
   ]
  },
  {
   "cell_type": "code",
   "execution_count": 62,
   "metadata": {
    "scrolled": true
   },
   "outputs": [
    {
     "name": "stdout",
     "output_type": "stream",
     "text": [
      "The basis vectors of the inverse 1D DFT for N=4 : \n",
      "\n",
      "\n",
      "(1+0j) (1+0j) (1+0j) (1+0j)\n",
      "(1+0j) (111.31777848985621+0j) (12391.647807916694+0j) (1379410.7058059827+0j)\n",
      "(1+0j) (12391.647807916694+0j) (153552935.39544657+0j) (1902773895292.1592+0j)\n",
      "(1+0j) (1379410.7058059827+0j) (1902773895292.1592+0j) (2.6247066818941517e+18+0j)\n"
     ]
    }
   ],
   "source": [
    "\n",
    "for n in range(4):\n",
    "    w = 2*np.pi*n/4\n",
    "    for k in range(4):\n",
    "        forward_basis[n][k] = np.exp(j*w*k)\n",
    "print(\"The basis vectors of the inverse 1D DFT for N=4 : \\n\\n\")\n",
    "for i in inverse_basis:\n",
    "    print(i[0],i[1],i[2],i[3])"
   ]
  },
  {
   "cell_type": "code",
   "execution_count": 64,
   "metadata": {},
   "outputs": [
    {
     "name": "stdout",
     "output_type": "stream",
     "text": [
      "The output array for [F(0),F(1),F(2),F(3)] [3.25000000e+00+0.j 1.39188634e+06+0.j 1.90292746e+12+0.j\n",
      " 2.62470858e+18+0.j]\n",
      "\n",
      "\n",
      "The complex form of f(x) (2.624710487597931e+18+0j)\n",
      "\n",
      "\n",
      "DFT of f(x) 2.624710487597931e+18\n"
     ]
    }
   ],
   "source": [
    "f = [2, 3, 4, 4]\n",
    "out_array= np.dot(forward_basis, np.transpose(f))\n",
    "out_array /=4\n",
    "print(\"The output array for [F(0),F(1),F(2),F(3)]\",out_array)\n",
    "print(\"\\n\")\n",
    "print(\"The complex form of f(x)\", sum(out_array))\n",
    "print(\"\\n\")\n",
    "print(\"DFT of f(x)\",abs(sum(out_array)))"
   ]
  }
 ],
 "metadata": {
  "kernelspec": {
   "display_name": "Python 3",
   "language": "python",
   "name": "python3"
  },
  "language_info": {
   "codemirror_mode": {
    "name": "ipython",
    "version": 3
   },
   "file_extension": ".py",
   "mimetype": "text/x-python",
   "name": "python",
   "nbconvert_exporter": "python",
   "pygments_lexer": "ipython3",
   "version": "3.7.4"
  }
 },
 "nbformat": 4,
 "nbformat_minor": 2
}
