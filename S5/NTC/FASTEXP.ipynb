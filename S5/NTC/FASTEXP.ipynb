{
 "cells": [
  {
   "cell_type": "code",
   "execution_count": 33,
   "metadata": {},
   "outputs": [
    {
     "name": "stdout",
     "output_type": "stream",
     "text": [
      "enter the exponent: 26\n",
      "Enter x: 2\n",
      "Enter n:23\n",
      "11010\n",
      "sq\n",
      "2\n",
      "mul\n",
      "3\n",
      "sq\n",
      "6\n",
      "sq\n",
      "12\n",
      "mul\n",
      "13\n",
      "sq\n",
      "26\n",
      "Result is 16\n"
     ]
    }
   ],
   "source": [
    "#SAM : SCAN LEFT TO RIGHT BS\n",
    "i = int(input(\"enter the exponent: \"))\n",
    "x = int(input(\"Enter x: \"))\n",
    "n = int(input(\"Enter n:\"))\n",
    "b = str(bin(i)[2:])\n",
    "l = []\n",
    "res = x\n",
    "a = 1\n",
    "print(b)\n",
    "for j in range(1,len(b),1):\n",
    "    res = (res*res)%n\n",
    "    a = a*2\n",
    "    print(\"sq\")\n",
    "    print(a)\n",
    "    if(b[j] == '1'):\n",
    "        res = res*x%n\n",
    "        a = a+1\n",
    "        print(\"mul\")\n",
    "        print(a)\n",
    "\n",
    "print(\"Result is\",res)"
   ]
  },
  {
   "cell_type": "code",
   "execution_count": null,
   "metadata": {},
   "outputs": [],
   "source": []
  }
 ],
 "metadata": {
  "kernelspec": {
   "display_name": "Python 3",
   "language": "python",
   "name": "python3"
  },
  "language_info": {
   "codemirror_mode": {
    "name": "ipython",
    "version": 3
   },
   "file_extension": ".py",
   "mimetype": "text/x-python",
   "name": "python",
   "nbconvert_exporter": "python",
   "pygments_lexer": "ipython3",
   "version": "3.7.3"
  }
 },
 "nbformat": 4,
 "nbformat_minor": 4
}
