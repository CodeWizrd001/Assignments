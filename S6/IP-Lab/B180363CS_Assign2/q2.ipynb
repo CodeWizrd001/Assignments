{
 "cells": [
  {
   "cell_type": "code",
   "execution_count": 136,
   "metadata": {},
   "outputs": [],
   "source": [
    "import numpy as np"
   ]
  },
  {
   "cell_type": "code",
   "execution_count": 135,
   "metadata": {},
   "outputs": [],
   "source": [
    "def bi(a,n):\n",
    "    return format(a, '0'+str(n)+'b')"
   ]
  },
  {
   "cell_type": "code",
   "execution_count": 134,
   "metadata": {},
   "outputs": [],
   "source": [
    "#walsh\n",
    "def product_of_walsh(i,j,n):\n",
    "    bin1 = bi(i,n)\n",
    "    bin2 = bi(j,n)\n",
    "    sum = 1\n",
    "    for k in range(n):\n",
    "        b = int(bin1[k]) * int(bin2[n-1-k])\n",
    "        sum *= (-1)**b\n",
    "    return sum"
   ]
  },
  {
   "cell_type": "code",
   "execution_count": 131,
   "metadata": {},
   "outputs": [
    {
     "name": "stdout",
     "output_type": "stream",
     "text": [
      "The walsh basis is \n",
      "\n",
      "\n"
     ]
    },
    {
     "data": {
      "text/plain": [
       "array([[ 1,  1,  1,  1],\n",
       "       [ 1,  1, -1, -1],\n",
       "       [ 1, -1,  1, -1],\n",
       "       [ 1, -1, -1,  1]])"
      ]
     },
     "execution_count": 131,
     "metadata": {},
     "output_type": "execute_result"
    }
   ],
   "source": [
    "def walsh_basis(N):\n",
    "    row = []\n",
    "    bits = int(np.log2(N))\n",
    "    for i in range(N):\n",
    "        column= []\n",
    "        for j in range(N):\n",
    "            column.append(product_of_walsh(i,j,bits))\n",
    "        row.append(column)\n",
    "    return np.array(row)\n",
    "print(\"The walsh basis is \\n\\n\")\n",
    "walsh_basis(4)\n",
    "        "
   ]
  },
  {
   "cell_type": "code",
   "execution_count": 137,
   "metadata": {},
   "outputs": [],
   "source": [
    "#hadaward\n",
    "def product_of_hadaward(i,j,n):\n",
    "    bin1 = bi(i,n)\n",
    "    bin2 = bi(j,n)\n",
    "    sum = 1\n",
    "    for tt in range(n):\n",
    "        b = int(bin1[tt]) * int(bin2[tt])\n",
    "        sum *= (-1)**b\n",
    "    return sum"
   ]
  },
  {
   "cell_type": "code",
   "execution_count": 133,
   "metadata": {},
   "outputs": [
    {
     "name": "stdout",
     "output_type": "stream",
     "text": [
      "The hadaward 1D basis is \n",
      "\n",
      "\n"
     ]
    },
    {
     "data": {
      "text/plain": [
       "array([[ 1,  1,  1,  1],\n",
       "       [ 1, -1,  1, -1],\n",
       "       [ 1,  1, -1, -1],\n",
       "       [ 1, -1, -1,  1]])"
      ]
     },
     "execution_count": 133,
     "metadata": {},
     "output_type": "execute_result"
    }
   ],
   "source": [
    "def hadaward_basis(N):\n",
    "    rows = []\n",
    "    bits = int(np.log2(N))\n",
    "    for i in range(N):\n",
    "        columns = []\n",
    "        for j in range(N):\n",
    "            columns.append(product_of_hadaward(i,j,bits))\n",
    "        rows.append(columns)\n",
    "    return np.array(rows)\n",
    "print(\"The hadaward 1D basis is \\n\\n\")\n",
    "hadaward_basis(4)"
   ]
  }
 ],
 "metadata": {
  "kernelspec": {
   "display_name": "Python 3",
   "language": "python",
   "name": "python3"
  },
  "language_info": {
   "codemirror_mode": {
    "name": "ipython",
    "version": 3
   },
   "file_extension": ".py",
   "mimetype": "text/x-python",
   "name": "python",
   "nbconvert_exporter": "python",
   "pygments_lexer": "ipython3",
   "version": "3.7.4"
  }
 },
 "nbformat": 4,
 "nbformat_minor": 2
}
